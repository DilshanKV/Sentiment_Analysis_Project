{
 "cells": [
  {
   "cell_type": "code",
   "execution_count": 2,
   "id": "5cb60497",
   "metadata": {},
   "outputs": [],
   "source": [
    "import pandas as pd"
   ]
  },
  {
   "cell_type": "code",
   "execution_count": 4,
   "id": "ccfcca48",
   "metadata": {},
   "outputs": [],
   "source": [
    "import json\n",
    "with open('../artifacts/kaggle.json', 'r') as file:\n",
    "    data = json.load(file)"
   ]
  },
  {
   "cell_type": "code",
   "execution_count": 5,
   "id": "96fd386a",
   "metadata": {},
   "outputs": [
    {
     "data": {
      "text/plain": [
       "{'username': 'dilshankavinda', 'key': '9625e5137fe0816f5ba64ccb3e59c663'}"
      ]
     },
     "execution_count": 5,
     "metadata": {},
     "output_type": "execute_result"
    }
   ],
   "source": [
    "data"
   ]
  },
  {
   "cell_type": "code",
   "execution_count": 6,
   "id": "42e25411",
   "metadata": {},
   "outputs": [
    {
     "name": "stdout",
     "output_type": "stream",
     "text": [
      "Collecting kaggle\n",
      "  Downloading kaggle-1.5.13.tar.gz (63 kB)\n",
      "                                              0.0/63.3 kB ? eta -:--:--\n",
      "                                              0.0/63.3 kB ? eta -:--:--\n",
      "     ------                                   10.2/63.3 kB ? eta -:--:--\n",
      "     ------                                   10.2/63.3 kB ? eta -:--:--\n",
      "     ------                                   10.2/63.3 kB ? eta -:--:--\n",
      "     ------------                            20.5/63.3 kB 65.6 kB/s eta 0:00:01\n",
      "     ------------------------               41.0/63.3 kB 151.3 kB/s eta 0:00:01\n",
      "     ------------------------------         51.2/63.3 kB 163.8 kB/s eta 0:00:01\n",
      "     -------------------------------------- 63.3/63.3 kB 170.2 kB/s eta 0:00:00\n",
      "  Preparing metadata (setup.py): started\n",
      "  Preparing metadata (setup.py): finished with status 'done'\n",
      "Requirement already satisfied: six>=1.10 in c:\\users\\dilsh\\desktop\\sentiment_analysis_project\\env\\lib\\site-packages (from kaggle) (1.16.0)\n",
      "Collecting certifi (from kaggle)\n",
      "  Downloading certifi-2023.5.7-py3-none-any.whl (156 kB)\n",
      "                                              0.0/157.0 kB ? eta -:--:--\n",
      "     --                                       10.2/157.0 kB ? eta -:--:--\n",
      "     ---------                             41.0/157.0 kB 495.5 kB/s eta 0:00:01\n",
      "     --------------                        61.4/157.0 kB 656.4 kB/s eta 0:00:01\n",
      "     --------------                        61.4/157.0 kB 656.4 kB/s eta 0:00:01\n",
      "     ----------------                      71.7/157.0 kB 302.7 kB/s eta 0:00:01\n",
      "     ----------------                      71.7/157.0 kB 302.7 kB/s eta 0:00:01\n",
      "     ---------------------                 92.2/157.0 kB 291.5 kB/s eta 0:00:01\n",
      "     -------------------------            112.6/157.0 kB 328.2 kB/s eta 0:00:01\n",
      "     -------------------------            112.6/157.0 kB 328.2 kB/s eta 0:00:01\n",
      "     ----------------------------         122.9/157.0 kB 277.4 kB/s eta 0:00:01\n",
      "     -----------------------------------  153.6/157.0 kB 286.7 kB/s eta 0:00:01\n",
      "     ------------------------------------ 157.0/157.0 kB 284.3 kB/s eta 0:00:00\n",
      "Requirement already satisfied: python-dateutil in c:\\users\\dilsh\\desktop\\sentiment_analysis_project\\env\\lib\\site-packages (from kaggle) (2.8.2)\n",
      "Collecting requests (from kaggle)\n",
      "  Downloading requests-2.31.0-py3-none-any.whl (62 kB)\n",
      "                                              0.0/62.6 kB ? eta -:--:--\n",
      "                                              0.0/62.6 kB ? eta -:--:--\n",
      "     ------                                   10.2/62.6 kB ? eta -:--:--\n",
      "     ------------------                     30.7/62.6 kB 435.7 kB/s eta 0:00:01\n",
      "     -------------------------------------  61.4/62.6 kB 409.6 kB/s eta 0:00:01\n",
      "     -------------------------------------- 62.6/62.6 kB 371.2 kB/s eta 0:00:00\n",
      "Collecting tqdm (from kaggle)\n",
      "  Downloading tqdm-4.65.0-py3-none-any.whl (77 kB)\n",
      "                                              0.0/77.1 kB ? eta -:--:--\n",
      "     -----                                    10.2/77.1 kB ? eta -:--:--\n",
      "     -----                                    10.2/77.1 kB ? eta -:--:--\n",
      "     -----                                    10.2/77.1 kB ? eta -:--:--\n",
      "     -----                                    10.2/77.1 kB ? eta -:--:--\n",
      "     -----                                    10.2/77.1 kB ? eta -:--:--\n",
      "     ---------------                         30.7/77.1 kB 87.5 kB/s eta 0:00:01\n",
      "     ---------------                         30.7/77.1 kB 87.5 kB/s eta 0:00:01\n",
      "     ---------------                         30.7/77.1 kB 87.5 kB/s eta 0:00:01\n",
      "     ---------------                         30.7/77.1 kB 87.5 kB/s eta 0:00:01\n",
      "     --------------------                    41.0/77.1 kB 75.7 kB/s eta 0:00:01\n",
      "     -----------------------------------    71.7/77.1 kB 131.3 kB/s eta 0:00:01\n",
      "     -------------------------------------- 77.1/77.1 kB 133.7 kB/s eta 0:00:00\n",
      "Collecting python-slugify (from kaggle)\n",
      "  Downloading python_slugify-8.0.1-py2.py3-none-any.whl (9.7 kB)\n",
      "Collecting urllib3 (from kaggle)\n",
      "  Downloading urllib3-2.0.3-py3-none-any.whl (123 kB)\n",
      "                                              0.0/123.6 kB ? eta -:--:--\n",
      "     ---                                      10.2/123.6 kB ? eta -:--:--\n",
      "     ---------                             30.7/123.6 kB 435.7 kB/s eta 0:00:01\n",
      "     ------------                          41.0/123.6 kB 388.9 kB/s eta 0:00:01\n",
      "     ---------------------                 71.7/123.6 kB 558.5 kB/s eta 0:00:01\n",
      "     -----------------------------------  122.9/123.6 kB 654.9 kB/s eta 0:00:01\n",
      "     ------------------------------------ 123.6/123.6 kB 555.7 kB/s eta 0:00:00\n",
      "Collecting text-unidecode>=1.3 (from python-slugify->kaggle)\n",
      "  Downloading text_unidecode-1.3-py2.py3-none-any.whl (78 kB)\n",
      "                                              0.0/78.2 kB ? eta -:--:--\n",
      "                                              0.0/78.2 kB ? eta -:--:--\n",
      "     -----                                    10.2/78.2 kB ? eta -:--:--\n",
      "     -----                                    10.2/78.2 kB ? eta -:--:--\n",
      "     -----                                    10.2/78.2 kB ? eta -:--:--\n",
      "     -----                                    10.2/78.2 kB ? eta -:--:--\n",
      "     -------------------                    41.0/78.2 kB 151.3 kB/s eta 0:00:01\n",
      "     -----------------------------          61.4/78.2 kB 204.8 kB/s eta 0:00:01\n",
      "     ----------------------------------     71.7/78.2 kB 206.9 kB/s eta 0:00:01\n",
      "     -------------------------------------- 78.2/78.2 kB 207.1 kB/s eta 0:00:00\n",
      "Collecting charset-normalizer<4,>=2 (from requests->kaggle)\n",
      "  Downloading charset_normalizer-3.1.0-cp39-cp39-win_amd64.whl (97 kB)\n",
      "                                              0.0/97.1 kB ? eta -:--:--\n",
      "                                              0.0/97.1 kB ? eta -:--:--\n",
      "     ----                                     10.2/97.1 kB ? eta -:--:--\n",
      "     ------------                           30.7/97.1 kB 445.2 kB/s eta 0:00:01\n",
      "     ------------------------               61.4/97.1 kB 409.6 kB/s eta 0:00:01\n",
      "     -------------------------------------- 97.1/97.1 kB 507.9 kB/s eta 0:00:00\n",
      "Requirement already satisfied: idna<4,>=2.5 in c:\\users\\dilsh\\desktop\\sentiment_analysis_project\\env\\lib\\site-packages (from requests->kaggle) (3.4)\n",
      "Requirement already satisfied: colorama in c:\\users\\dilsh\\desktop\\sentiment_analysis_project\\env\\lib\\site-packages (from tqdm->kaggle) (0.4.6)\n",
      "Building wheels for collected packages: kaggle\n",
      "  Building wheel for kaggle (setup.py): started\n",
      "  Building wheel for kaggle (setup.py): finished with status 'done'\n",
      "  Created wheel for kaggle: filename=kaggle-1.5.13-py3-none-any.whl size=77729 sha256=8bcebd12b3671e6d619a3b7aed5b3d51f16233e7ebd8992c1d2127279374a878\n",
      "  Stored in directory: c:\\users\\dilsh\\appdata\\local\\pip\\cache\\wheels\\9c\\45\\15\\6d6d116cd2539fb8f450d64b0aee4a480e5366bb11b42ac763\n",
      "Successfully built kaggle\n",
      "Installing collected packages: text-unidecode, urllib3, tqdm, python-slugify, charset-normalizer, certifi, requests, kaggle\n",
      "Successfully installed certifi-2023.5.7 charset-normalizer-3.1.0 kaggle-1.5.13 python-slugify-8.0.1 requests-2.31.0 text-unidecode-1.3 tqdm-4.65.0 urllib3-2.0.3\n"
     ]
    }
   ],
   "source": [
    "!pip install kaggle"
   ]
  },
  {
   "cell_type": "code",
   "execution_count": 8,
   "id": "836edf19",
   "metadata": {},
   "outputs": [],
   "source": [
    "import os\n",
    "os.environ['KAGGLE_USERNAME'] = data['username']\n",
    "os.environ['KAGGLE_KEY'] = data['key']"
   ]
  },
  {
   "cell_type": "code",
   "execution_count": 9,
   "id": "b41365f8",
   "metadata": {},
   "outputs": [],
   "source": [
    "from kaggle.api.kaggle_api_extended import KaggleApi\n",
    "api = KaggleApi()\n",
    "api.authenticate()"
   ]
  },
  {
   "cell_type": "code",
   "execution_count": 10,
   "id": "0bb64520",
   "metadata": {},
   "outputs": [],
   "source": [
    "api.dataset_download_files('dineshpiyasamara/sentiment-analysis-dataset', path = '../artifacts/')"
   ]
  },
  {
   "cell_type": "code",
   "execution_count": 11,
   "id": "ae270e8a",
   "metadata": {},
   "outputs": [],
   "source": [
    "import zipfile\n",
    "with zipfile.ZipFile('../artifacts/sentiment-analysis-dataset.zip', 'r') as zip_ref:\n",
    "    zip_ref.extractall('../artifacts/')\n"
   ]
  }
 ],
 "metadata": {
  "kernelspec": {
   "display_name": "Python 3 (ipykernel)",
   "language": "python",
   "name": "python3"
  },
  "language_info": {
   "codemirror_mode": {
    "name": "ipython",
    "version": 3
   },
   "file_extension": ".py",
   "mimetype": "text/x-python",
   "name": "python",
   "nbconvert_exporter": "python",
   "pygments_lexer": "ipython3",
   "version": "3.9.9"
  }
 },
 "nbformat": 4,
 "nbformat_minor": 5
}
