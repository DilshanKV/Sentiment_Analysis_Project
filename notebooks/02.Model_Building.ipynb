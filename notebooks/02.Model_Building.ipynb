{
 "cells": [
  {
   "cell_type": "code",
   "execution_count": 3,
   "id": "63d58985",
   "metadata": {},
   "outputs": [],
   "source": [
    "import pandas as pd\n",
    "import numpy as np\n",
    "import matplotlib.pyplot as plt"
   ]
  },
  {
   "cell_type": "code",
   "execution_count": 4,
   "id": "a349a48f",
   "metadata": {},
   "outputs": [],
   "source": [
    "df = pd.read_csv('../artifacts/sentiment_analysis.csv')"
   ]
  },
  {
   "cell_type": "code",
   "execution_count": 5,
   "id": "abc36eb9",
   "metadata": {},
   "outputs": [
    {
     "data": {
      "text/html": [
       "<div>\n",
       "<style scoped>\n",
       "    .dataframe tbody tr th:only-of-type {\n",
       "        vertical-align: middle;\n",
       "    }\n",
       "\n",
       "    .dataframe tbody tr th {\n",
       "        vertical-align: top;\n",
       "    }\n",
       "\n",
       "    .dataframe thead th {\n",
       "        text-align: right;\n",
       "    }\n",
       "</style>\n",
       "<table border=\"1\" class=\"dataframe\">\n",
       "  <thead>\n",
       "    <tr style=\"text-align: right;\">\n",
       "      <th></th>\n",
       "      <th>id</th>\n",
       "      <th>label</th>\n",
       "      <th>tweet</th>\n",
       "    </tr>\n",
       "  </thead>\n",
       "  <tbody>\n",
       "    <tr>\n",
       "      <th>0</th>\n",
       "      <td>1</td>\n",
       "      <td>0</td>\n",
       "      <td>#fingerprint #Pregnancy Test https://goo.gl/h1...</td>\n",
       "    </tr>\n",
       "    <tr>\n",
       "      <th>1</th>\n",
       "      <td>2</td>\n",
       "      <td>0</td>\n",
       "      <td>Finally a transparant silicon case ^^ Thanks t...</td>\n",
       "    </tr>\n",
       "    <tr>\n",
       "      <th>2</th>\n",
       "      <td>3</td>\n",
       "      <td>0</td>\n",
       "      <td>We love this! Would you go? #talk #makememorie...</td>\n",
       "    </tr>\n",
       "    <tr>\n",
       "      <th>3</th>\n",
       "      <td>4</td>\n",
       "      <td>0</td>\n",
       "      <td>I'm wired I know I'm George I was made that wa...</td>\n",
       "    </tr>\n",
       "    <tr>\n",
       "      <th>4</th>\n",
       "      <td>5</td>\n",
       "      <td>1</td>\n",
       "      <td>What amazing service! Apple won't even talk to...</td>\n",
       "    </tr>\n",
       "  </tbody>\n",
       "</table>\n",
       "</div>"
      ],
      "text/plain": [
       "   id  label                                              tweet\n",
       "0   1      0  #fingerprint #Pregnancy Test https://goo.gl/h1...\n",
       "1   2      0  Finally a transparant silicon case ^^ Thanks t...\n",
       "2   3      0  We love this! Would you go? #talk #makememorie...\n",
       "3   4      0  I'm wired I know I'm George I was made that wa...\n",
       "4   5      1  What amazing service! Apple won't even talk to..."
      ]
     },
     "execution_count": 5,
     "metadata": {},
     "output_type": "execute_result"
    }
   ],
   "source": [
    "df.head()"
   ]
  },
  {
   "cell_type": "markdown",
   "id": "774e5804",
   "metadata": {},
   "source": [
    "# Data preprocessing"
   ]
  },
  {
   "cell_type": "code",
   "execution_count": 6,
   "id": "234d7983",
   "metadata": {},
   "outputs": [
    {
     "data": {
      "text/plain": [
       "(7920, 3)"
      ]
     },
     "execution_count": 6,
     "metadata": {},
     "output_type": "execute_result"
    }
   ],
   "source": [
    "df.shape"
   ]
  },
  {
   "cell_type": "code",
   "execution_count": 7,
   "id": "78d0755a",
   "metadata": {},
   "outputs": [
    {
     "data": {
      "text/plain": [
       "0"
      ]
     },
     "execution_count": 7,
     "metadata": {},
     "output_type": "execute_result"
    }
   ],
   "source": [
    "df.duplicated().sum()"
   ]
  },
  {
   "cell_type": "code",
   "execution_count": 8,
   "id": "271539c9",
   "metadata": {},
   "outputs": [
    {
     "data": {
      "text/plain": [
       "id       0\n",
       "label    0\n",
       "tweet    0\n",
       "dtype: int64"
      ]
     },
     "execution_count": 8,
     "metadata": {},
     "output_type": "execute_result"
    }
   ],
   "source": [
    "df.isna().sum()"
   ]
  },
  {
   "cell_type": "markdown",
   "id": "37cc9c25",
   "metadata": {},
   "source": [
    "### Text Preprocessing"
   ]
  },
  {
   "cell_type": "code",
   "execution_count": 9,
   "id": "97b426be",
   "metadata": {},
   "outputs": [],
   "source": [
    "import re\n",
    "import string"
   ]
  },
  {
   "cell_type": "markdown",
   "id": "5ead3f16",
   "metadata": {},
   "source": [
    "#### convert uppercase to lovercase"
   ]
  },
  {
   "cell_type": "code",
   "execution_count": 10,
   "id": "f52ea008",
   "metadata": {},
   "outputs": [],
   "source": [
    "df['tweet'] = df['tweet'].apply(lambda x: \" \".join(x.lower() for x in x.split()))"
   ]
  },
  {
   "cell_type": "code",
   "execution_count": 11,
   "id": "b25ba38c",
   "metadata": {},
   "outputs": [
    {
     "data": {
      "text/plain": [
       "0    #fingerprint #pregnancy test https://goo.gl/h1...\n",
       "1    finally a transparant silicon case ^^ thanks t...\n",
       "2    we love this! would you go? #talk #makememorie...\n",
       "3    i'm wired i know i'm george i was made that wa...\n",
       "4    what amazing service! apple won't even talk to...\n",
       "Name: tweet, dtype: object"
      ]
     },
     "execution_count": 11,
     "metadata": {},
     "output_type": "execute_result"
    }
   ],
   "source": [
    "df['tweet'].head(5)"
   ]
  },
  {
   "cell_type": "markdown",
   "id": "6e1ac51d",
   "metadata": {},
   "source": [
    "#### remove links"
   ]
  },
  {
   "cell_type": "code",
   "execution_count": 12,
   "id": "e93b78cf",
   "metadata": {},
   "outputs": [],
   "source": [
    "df['tweet'] = df['tweet'].apply(lambda x: \" \".join(re.sub(r'^https?:\\/\\/.*[\\r\\n]*', '', x, flags=re.MULTILINE) for x in x.split()))"
   ]
  },
  {
   "cell_type": "code",
   "execution_count": 13,
   "id": "3863ec78",
   "metadata": {},
   "outputs": [
    {
     "data": {
      "text/plain": [
       "0    #fingerprint #pregnancy test  #android #apps #...\n",
       "1    finally a transparant silicon case ^^ thanks t...\n",
       "2    we love this! would you go? #talk #makememorie...\n",
       "3    i'm wired i know i'm george i was made that wa...\n",
       "4    what amazing service! apple won't even talk to...\n",
       "Name: tweet, dtype: object"
      ]
     },
     "execution_count": 13,
     "metadata": {},
     "output_type": "execute_result"
    }
   ],
   "source": [
    "df['tweet'].head(5)"
   ]
  },
  {
   "cell_type": "markdown",
   "id": "f1e6a161",
   "metadata": {},
   "source": [
    "#### remove functuations"
   ]
  },
  {
   "cell_type": "code",
   "execution_count": 14,
   "id": "5d47576b",
   "metadata": {},
   "outputs": [],
   "source": [
    "def remove_punctuations(text):\n",
    "    for punctuation in string.punctuation:\n",
    "        text = text.replace(punctuation, '')\n",
    "    return text\n",
    "\n",
    "df['tweet'] = df['tweet'].apply(remove_punctuations)"
   ]
  },
  {
   "cell_type": "code",
   "execution_count": 15,
   "id": "08df116c",
   "metadata": {},
   "outputs": [
    {
     "data": {
      "text/plain": [
       "0    fingerprint pregnancy test  android apps beaut...\n",
       "1    finally a transparant silicon case  thanks to ...\n",
       "2    we love this would you go talk makememories un...\n",
       "3    im wired i know im george i was made that way ...\n",
       "4    what amazing service apple wont even talk to m...\n",
       "Name: tweet, dtype: object"
      ]
     },
     "execution_count": 15,
     "metadata": {},
     "output_type": "execute_result"
    }
   ],
   "source": [
    "df['tweet'].head()"
   ]
  },
  {
   "cell_type": "markdown",
   "id": "d664e7ce",
   "metadata": {},
   "source": [
    "#### remove numbers"
   ]
  },
  {
   "cell_type": "code",
   "execution_count": 16,
   "id": "a228352b",
   "metadata": {},
   "outputs": [],
   "source": [
    "df['tweet'] = df['tweet'].str.replace('\\d+','',regex=True)"
   ]
  },
  {
   "cell_type": "code",
   "execution_count": 17,
   "id": "889c8c0e",
   "metadata": {},
   "outputs": [
    {
     "data": {
      "text/plain": [
       "7915    live out loud lol liveoutloud selfie smile son...\n",
       "7916    we would like to wish you an amazing day make ...\n",
       "7917    helping my lovely  year old neighbor with her ...\n",
       "7918    finally got my smart pocket wifi stay connecte...\n",
       "7919    apple barcelona apple store bcn barcelona trav...\n",
       "Name: tweet, dtype: object"
      ]
     },
     "execution_count": 17,
     "metadata": {},
     "output_type": "execute_result"
    }
   ],
   "source": [
    "df['tweet'].tail()"
   ]
  },
  {
   "cell_type": "markdown",
   "id": "025333bc",
   "metadata": {},
   "source": [
    "#### remove stopwords"
   ]
  },
  {
   "cell_type": "code",
   "execution_count": 18,
   "id": "e116e1c5",
   "metadata": {},
   "outputs": [],
   "source": [
    "#!pip install nltk "
   ]
  },
  {
   "cell_type": "code",
   "execution_count": 19,
   "id": "12e7e4c2",
   "metadata": {},
   "outputs": [],
   "source": [
    "import nltk"
   ]
  },
  {
   "cell_type": "code",
   "execution_count": 20,
   "id": "4c2e5b06",
   "metadata": {},
   "outputs": [
    {
     "name": "stderr",
     "output_type": "stream",
     "text": [
      "[nltk_data] Downloading package stopwords to ../static/model...\n",
      "[nltk_data]   Package stopwords is already up-to-date!\n"
     ]
    },
    {
     "data": {
      "text/plain": [
       "True"
      ]
     },
     "execution_count": 20,
     "metadata": {},
     "output_type": "execute_result"
    }
   ],
   "source": [
    "nltk.download('stopwords', download_dir='../static/model')"
   ]
  },
  {
   "cell_type": "code",
   "execution_count": 21,
   "id": "631d53c6",
   "metadata": {},
   "outputs": [],
   "source": [
    "with open('../static/model/corpora/stopwords/english','r') as file:\n",
    "    sw = file.read().splitlines()"
   ]
  },
  {
   "cell_type": "code",
   "execution_count": 22,
   "id": "84d523f0",
   "metadata": {},
   "outputs": [],
   "source": [
    "df['tweet'] = df['tweet'].apply(lambda x: ' '.join(x for x in x.split() if x not in sw))"
   ]
  },
  {
   "cell_type": "code",
   "execution_count": 23,
   "id": "7fba536e",
   "metadata": {},
   "outputs": [
    {
     "data": {
      "text/plain": [
       "7915    live loud lol liveoutloud selfie smile sony mu...\n",
       "7916    would like wish amazing day make every minute ...\n",
       "7917    helping lovely year old neighbor ipad morning ...\n",
       "7918    finally got smart pocket wifi stay connected a...\n",
       "7919    apple barcelona apple store bcn barcelona trav...\n",
       "Name: tweet, dtype: object"
      ]
     },
     "execution_count": 23,
     "metadata": {},
     "output_type": "execute_result"
    }
   ],
   "source": [
    "df['tweet'].tail()"
   ]
  },
  {
   "cell_type": "markdown",
   "id": "d3e542c9",
   "metadata": {},
   "source": [
    "#### stemming"
   ]
  },
  {
   "cell_type": "code",
   "execution_count": 24,
   "id": "7957843d",
   "metadata": {},
   "outputs": [],
   "source": [
    "from nltk.stem import PorterStemmer\n",
    "ps = PorterStemmer()"
   ]
  },
  {
   "cell_type": "code",
   "execution_count": 25,
   "id": "4ab466b4",
   "metadata": {},
   "outputs": [],
   "source": [
    "df['tweet'] = df['tweet'].apply(lambda x: ' '.join(ps.stem(x) for x in x.split()))"
   ]
  },
  {
   "cell_type": "code",
   "execution_count": 26,
   "id": "136e2a50",
   "metadata": {},
   "outputs": [
    {
     "data": {
      "text/plain": [
       "7915    live loud lol liveoutloud selfi smile soni mus...\n",
       "7916    would like wish amaz day make everi minut coun...\n",
       "7917    help love year old neighbor ipad morn made rea...\n",
       "7918    final got smart pocket wifi stay connect anyti...\n",
       "7919    appl barcelona appl store bcn barcelona travel...\n",
       "Name: tweet, dtype: object"
      ]
     },
     "execution_count": 26,
     "metadata": {},
     "output_type": "execute_result"
    }
   ],
   "source": [
    "df['tweet'].tail()"
   ]
  },
  {
   "cell_type": "markdown",
   "id": "4441a8bd",
   "metadata": {},
   "source": [
    "#### Buiding vocabulary"
   ]
  },
  {
   "cell_type": "code",
   "execution_count": 28,
   "id": "85d93a43",
   "metadata": {},
   "outputs": [],
   "source": [
    "from collections import Counter\n",
    "vocab = Counter()"
   ]
  },
  {
   "cell_type": "code",
   "execution_count": 29,
   "id": "0f7381b0",
   "metadata": {},
   "outputs": [],
   "source": [
    "for sentence in df['tweet']:\n",
    "    vocab.update(sentence.split())"
   ]
  },
  {
   "cell_type": "code",
   "execution_count": 32,
   "id": "e8567c72",
   "metadata": {},
   "outputs": [],
   "source": [
    "tokens = [key for key in vocab if vocab[key]>10]"
   ]
  },
  {
   "cell_type": "code",
   "execution_count": 33,
   "id": "d1212b4d",
   "metadata": {},
   "outputs": [],
   "source": [
    "def save_vocabulary(lines,filename):\n",
    "    data = '\\n'.join(lines)\n",
    "    file = open(filename,'w',encoding='utf-8')\n",
    "    file.write(data)\n",
    "    file.close()\n",
    "    \n",
    "save_vocabulary(tokens,'../static/model/vocabulary.txt')"
   ]
  },
  {
   "cell_type": "markdown",
   "id": "3174d6d8",
   "metadata": {},
   "source": [
    "### Devide dataset"
   ]
  },
  {
   "cell_type": "code",
   "execution_count": 35,
   "id": "200234c8",
   "metadata": {},
   "outputs": [],
   "source": [
    "x = df['tweet']\n",
    "y = df['label']"
   ]
  },
  {
   "cell_type": "code",
   "execution_count": 36,
   "id": "b982e0cd",
   "metadata": {},
   "outputs": [
    {
     "name": "stdout",
     "output_type": "stream",
     "text": [
      "Collecting scikit-learn\n",
      "  Using cached scikit_learn-1.2.2-cp39-cp39-win_amd64.whl (8.4 MB)\n",
      "Requirement already satisfied: numpy>=1.17.3 in c:\\users\\dilsh\\desktop\\sentiment_analysis_project\\env\\lib\\site-packages (from scikit-learn) (1.25.0)\n",
      "Collecting scipy>=1.3.2 (from scikit-learn)\n",
      "  Downloading scipy-1.10.1-cp39-cp39-win_amd64.whl (42.5 MB)\n",
      "                                              0.0/42.5 MB ? eta -:--:--\n",
      "                                              0.0/42.5 MB ? eta -:--:--\n",
      "                                              0.0/42.5 MB ? eta -:--:--\n",
      "                                              0.0/42.5 MB ? eta -:--:--\n",
      "                                              0.0/42.5 MB ? eta -:--:--\n",
      "                                              0.0/42.5 MB ? eta -:--:--\n",
      "                                              0.0/42.5 MB ? eta -:--:--\n",
      "                                              0.0/42.5 MB ? eta -:--:--\n",
      "                                              0.0/42.5 MB ? eta -:--:--\n",
      "                                              0.0/42.5 MB ? eta -:--:--\n",
      "                                             0.0/42.5 MB 262.6 kB/s eta 0:02:42\n",
      "                                             0.0/42.5 MB 217.9 kB/s eta 0:03:15\n",
      "                                             0.1/42.5 MB 328.2 kB/s eta 0:02:10\n",
      "                                             0.1/42.5 MB 374.1 kB/s eta 0:01:54\n",
      "                                             0.1/42.5 MB 450.6 kB/s eta 0:01:35\n",
      "                                             0.1/42.5 MB 450.6 kB/s eta 0:01:35\n",
      "                                             0.1/42.5 MB 387.0 kB/s eta 0:01:50\n",
      "                                             0.2/42.5 MB 454.0 kB/s eta 0:01:34\n",
      "                                             0.2/42.5 MB 444.2 kB/s eta 0:01:36\n",
      "                                             0.3/42.5 MB 491.5 kB/s eta 0:01:26\n",
      "                                             0.3/42.5 MB 501.4 kB/s eta 0:01:25\n",
      "                                             0.3/42.5 MB 499.9 kB/s eta 0:01:25\n",
      "                                             0.3/42.5 MB 511.2 kB/s eta 0:01:23\n",
      "                                             0.4/42.5 MB 550.7 kB/s eta 0:01:17\n",
      "                                             0.4/42.5 MB 557.3 kB/s eta 0:01:16\n",
      "                                             0.5/42.5 MB 590.0 kB/s eta 0:01:12\n",
      "                                             0.5/42.5 MB 593.6 kB/s eta 0:01:11\n",
      "                                             0.6/42.5 MB 620.3 kB/s eta 0:01:08\n",
      "                                             0.6/42.5 MB 632.9 kB/s eta 0:01:07\n",
      "                                             0.6/42.5 MB 632.9 kB/s eta 0:01:07\n",
      "                                             0.6/42.5 MB 594.6 kB/s eta 0:01:11\n",
      "                                             0.7/42.5 MB 616.5 kB/s eta 0:01:08\n",
      "                                             0.7/42.5 MB 618.1 kB/s eta 0:01:08\n",
      "                                             0.7/42.5 MB 620.1 kB/s eta 0:01:08\n",
      "                                             0.8/42.5 MB 621.4 kB/s eta 0:01:08\n",
      "                                             0.8/42.5 MB 622.6 kB/s eta 0:01:08\n",
      "                                             0.8/42.5 MB 639.5 kB/s eta 0:01:06\n",
      "                                             0.9/42.5 MB 647.7 kB/s eta 0:01:05\n",
      "                                             0.9/42.5 MB 655.2 kB/s eta 0:01:04\n",
      "                                             1.0/42.5 MB 669.4 kB/s eta 0:01:03\n",
      "                                             1.0/42.5 MB 682.7 kB/s eta 0:01:01\n",
      "                                             1.1/42.5 MB 695.6 kB/s eta 0:01:00\n",
      "     -                                       1.1/42.5 MB 694.3 kB/s eta 0:01:00\n",
      "     -                                       1.2/42.5 MB 705.8 kB/s eta 0:00:59\n",
      "     -                                       1.2/42.5 MB 698.7 kB/s eta 0:01:00\n",
      "     -                                       1.2/42.5 MB 697.5 kB/s eta 0:01:00\n",
      "     -                                       1.2/42.5 MB 702.2 kB/s eta 0:00:59\n",
      "     -                                       1.3/42.5 MB 700.9 kB/s eta 0:00:59\n",
      "     -                                       1.3/42.5 MB 704.7 kB/s eta 0:00:59\n",
      "     -                                       1.4/42.5 MB 703.8 kB/s eta 0:00:59\n",
      "     -                                       1.4/42.5 MB 708.0 kB/s eta 0:00:59\n",
      "     -                                       1.4/42.5 MB 706.7 kB/s eta 0:00:59\n",
      "     -                                       1.4/42.5 MB 705.9 kB/s eta 0:00:59\n",
      "     -                                       1.5/42.5 MB 709.1 kB/s eta 0:00:58\n",
      "     -                                       1.5/42.5 MB 707.9 kB/s eta 0:00:58\n",
      "     -                                       1.6/42.5 MB 711.9 kB/s eta 0:00:58\n",
      "     -                                       1.6/42.5 MB 706.5 kB/s eta 0:00:58\n",
      "     -                                       1.6/42.5 MB 706.5 kB/s eta 0:00:58\n",
      "     -                                       1.6/42.5 MB 690.6 kB/s eta 0:01:00\n",
      "     -                                       1.6/42.5 MB 694.6 kB/s eta 0:00:59\n",
      "     -                                       1.7/42.5 MB 702.2 kB/s eta 0:00:59\n",
      "     -                                       1.8/42.5 MB 709.7 kB/s eta 0:00:58\n",
      "     -                                       1.8/42.5 MB 716.8 kB/s eta 0:00:57\n",
      "     -                                       1.8/42.5 MB 715.6 kB/s eta 0:00:57\n",
      "     -                                       1.9/42.5 MB 722.4 kB/s eta 0:00:57\n",
      "     -                                       1.9/42.5 MB 724.8 kB/s eta 0:00:56\n",
      "     -                                       2.0/42.5 MB 727.6 kB/s eta 0:00:56\n",
      "     -                                       2.0/42.5 MB 737.6 kB/s eta 0:00:55\n",
      "     -                                       2.1/42.5 MB 736.4 kB/s eta 0:00:55\n",
      "     -                                       2.1/42.5 MB 746.2 kB/s eta 0:00:55\n",
      "     --                                      2.2/42.5 MB 755.1 kB/s eta 0:00:54\n",
      "     --                                      2.2/42.5 MB 764.0 kB/s eta 0:00:53\n",
      "     --                                      2.3/42.5 MB 772.6 kB/s eta 0:00:53\n",
      "     --                                      2.3/42.5 MB 778.2 kB/s eta 0:00:52\n",
      "     --                                      2.4/42.5 MB 789.0 kB/s eta 0:00:51\n",
      "     --                                      2.5/42.5 MB 786.9 kB/s eta 0:00:51\n",
      "     --                                      2.5/42.5 MB 795.5 kB/s eta 0:00:51\n",
      "     --                                      2.6/42.5 MB 805.6 kB/s eta 0:00:50\n",
      "     --                                      2.6/42.5 MB 803.4 kB/s eta 0:00:50\n",
      "     --                                      2.7/42.5 MB 810.6 kB/s eta 0:00:50\n",
      "     --                                      2.7/42.5 MB 818.5 kB/s eta 0:00:49\n",
      "     --                                      2.8/42.5 MB 821.4 kB/s eta 0:00:49\n",
      "     --                                      2.9/42.5 MB 828.0 kB/s eta 0:00:48\n",
      "     --                                      2.9/42.5 MB 825.7 kB/s eta 0:00:48\n",
      "     --                                      2.9/42.5 MB 825.7 kB/s eta 0:00:48\n",
      "     --                                      2.9/42.5 MB 815.7 kB/s eta 0:00:49\n",
      "     --                                      3.0/42.5 MB 825.4 kB/s eta 0:00:48\n",
      "     --                                      3.0/42.5 MB 825.4 kB/s eta 0:00:48\n",
      "     --                                      3.1/42.5 MB 832.4 kB/s eta 0:00:48\n",
      "     --                                      3.1/42.5 MB 832.0 kB/s eta 0:00:48\n",
      "     --                                      3.2/42.5 MB 835.2 kB/s eta 0:00:48\n",
      "     --                                      3.2/42.5 MB 838.3 kB/s eta 0:00:47\n",
      "     ---                                     3.3/42.5 MB 838.9 kB/s eta 0:00:47\n",
      "     ---                                     3.4/42.5 MB 850.3 kB/s eta 0:00:47\n",
      "     ---                                     3.4/42.5 MB 852.5 kB/s eta 0:00:46\n",
      "     ---                                     3.5/42.5 MB 858.6 kB/s eta 0:00:46\n",
      "     ---                                     3.5/42.5 MB 861.3 kB/s eta 0:00:46\n",
      "     ---                                     3.6/42.5 MB 863.9 kB/s eta 0:00:46\n",
      "     ---                                     3.6/42.5 MB 864.0 kB/s eta 0:00:46\n",
      "     ---                                     3.7/42.5 MB 860.8 kB/s eta 0:00:46\n",
      "     ---                                     3.7/42.5 MB 861.7 kB/s eta 0:00:46\n",
      "     ---                                     3.7/42.5 MB 859.5 kB/s eta 0:00:46\n",
      "     ---                                     3.7/42.5 MB 860.4 kB/s eta 0:00:46\n",
      "     ---                                     3.8/42.5 MB 859.9 kB/s eta 0:00:46\n",
      "     ---                                     3.9/42.5 MB 859.3 kB/s eta 0:00:45\n",
      "     ---                                     3.9/42.5 MB 864.7 kB/s eta 0:00:45\n",
      "     ---                                     3.9/42.5 MB 861.7 kB/s eta 0:00:45\n",
      "     ---                                     4.0/42.5 MB 867.1 kB/s eta 0:00:45\n",
      "     ---                                     4.1/42.5 MB 871.5 kB/s eta 0:00:45\n",
      "     ---                                     4.1/42.5 MB 868.8 kB/s eta 0:00:45\n",
      "     ---                                     4.2/42.5 MB 878.0 kB/s eta 0:00:44\n",
      "     ---                                     4.2/42.5 MB 878.0 kB/s eta 0:00:44\n",
      "     ---                                     4.2/42.5 MB 865.9 kB/s eta 0:00:45\n",
      "     ---                                     4.2/42.5 MB 869.6 kB/s eta 0:00:44\n",
      "     ---                                     4.3/42.5 MB 871.7 kB/s eta 0:00:44\n",
      "     ---                                     4.3/42.5 MB 871.7 kB/s eta 0:00:44\n",
      "     ----                                    4.4/42.5 MB 873.7 kB/s eta 0:00:44\n",
      "     ----                                    4.5/42.5 MB 879.8 kB/s eta 0:00:44\n",
      "     ----                                    4.5/42.5 MB 877.7 kB/s eta 0:00:44\n",
      "     ----                                    4.5/42.5 MB 882.4 kB/s eta 0:00:44\n",
      "     ----                                    4.6/42.5 MB 883.7 kB/s eta 0:00:43\n",
      "     ----                                    4.7/42.5 MB 885.5 kB/s eta 0:00:43\n",
      "     ----                                    4.7/42.5 MB 889.3 kB/s eta 0:00:43\n",
      "     ----                                    4.8/42.5 MB 887.2 kB/s eta 0:00:43\n",
      "     ----                                    4.8/42.5 MB 891.6 kB/s eta 0:00:43\n",
      "     ----                                    4.8/42.5 MB 890.3 kB/s eta 0:00:43\n",
      "     ----                                    4.8/42.5 MB 890.3 kB/s eta 0:00:43\n",
      "     ----                                    4.9/42.5 MB 885.0 kB/s eta 0:00:43\n",
      "     ----                                    4.9/42.5 MB 884.8 kB/s eta 0:00:43\n",
      "     ----                                    5.0/42.5 MB 890.2 kB/s eta 0:00:43\n",
      "     ----                                    5.1/42.5 MB 891.8 kB/s eta 0:00:42\n",
      "     ----                                    5.1/42.5 MB 891.7 kB/s eta 0:00:42\n",
      "     ----                                    5.2/42.5 MB 893.3 kB/s eta 0:00:42\n",
      "     ----                                    5.2/42.5 MB 898.4 kB/s eta 0:00:42\n",
      "     ----                                    5.3/42.5 MB 900.6 kB/s eta 0:00:42\n",
      "     ----                                    5.3/42.5 MB 899.9 kB/s eta 0:00:42\n",
      "     ----                                    5.4/42.5 MB 903.6 kB/s eta 0:00:42\n",
      "     ----                                    5.4/42.5 MB 901.1 kB/s eta 0:00:42\n",
      "     -----                                   5.5/42.5 MB 903.3 kB/s eta 0:00:42\n",
      "     -----                                   5.5/42.5 MB 904.0 kB/s eta 0:00:41\n",
      "     -----                                   5.6/42.5 MB 906.1 kB/s eta 0:00:41\n",
      "     -----                                   5.6/42.5 MB 910.1 kB/s eta 0:00:41\n",
      "     -----                                   5.7/42.5 MB 910.6 kB/s eta 0:00:41\n",
      "     -----                                   5.7/42.5 MB 909.7 kB/s eta 0:00:41\n",
      "     -----                                   5.8/42.5 MB 911.6 kB/s eta 0:00:41\n",
      "     -----                                   5.8/42.5 MB 914.5 kB/s eta 0:00:41\n",
      "     -----                                   5.9/42.5 MB 915.9 kB/s eta 0:00:40\n",
      "     -----                                   5.9/42.5 MB 917.2 kB/s eta 0:00:40\n",
      "     -----                                   6.0/42.5 MB 920.0 kB/s eta 0:00:40\n",
      "     -----                                   6.1/42.5 MB 922.8 kB/s eta 0:00:40\n",
      "     -----                                   6.1/42.5 MB 923.1 kB/s eta 0:00:40\n",
      "     -----                                   6.2/42.5 MB 925.2 kB/s eta 0:00:40\n",
      "     -----                                   6.2/42.5 MB 925.5 kB/s eta 0:00:40\n",
      "     -----                                   6.2/42.5 MB 925.5 kB/s eta 0:00:40\n",
      "     -----                                   6.2/42.5 MB 918.1 kB/s eta 0:00:40\n",
      "     -----                                   6.3/42.5 MB 919.8 kB/s eta 0:00:40\n",
      "     -----                                   6.3/42.5 MB 921.0 kB/s eta 0:00:40\n",
      "     -----                                   6.4/42.5 MB 920.1 kB/s eta 0:00:40\n",
      "     -----                                   6.4/42.5 MB 919.8 kB/s eta 0:00:40\n",
      "     -----                                   6.5/42.5 MB 921.6 kB/s eta 0:00:40\n",
      "     -----                                   6.5/42.5 MB 922.1 kB/s eta 0:00:40\n",
      "     ------                                  6.6/42.5 MB 923.2 kB/s eta 0:00:39\n",
      "     ------                                  6.6/42.5 MB 926.3 kB/s eta 0:00:39\n",
      "     ------                                  6.7/42.5 MB 926.9 kB/s eta 0:00:39\n",
      "     ------                                  6.7/42.5 MB 928.0 kB/s eta 0:00:39\n",
      "     ------                                  6.8/42.5 MB 929.0 kB/s eta 0:00:39\n",
      "     ------                                  6.8/42.5 MB 928.6 kB/s eta 0:00:39\n",
      "     ------                                  6.9/42.5 MB 930.3 kB/s eta 0:00:39\n",
      "     ------                                  6.9/42.5 MB 929.3 kB/s eta 0:00:39\n",
      "     ------                                  7.0/42.5 MB 933.0 kB/s eta 0:00:39\n",
      "     ------                                  7.1/42.5 MB 935.5 kB/s eta 0:00:38\n",
      "     ------                                  7.1/42.5 MB 936.4 kB/s eta 0:00:38\n",
      "     ------                                  7.2/42.5 MB 937.4 kB/s eta 0:00:38\n",
      "     ------                                  7.2/42.5 MB 937.0 kB/s eta 0:00:38\n",
      "     ------                                  7.3/42.5 MB 942.5 kB/s eta 0:00:38\n",
      "     ------                                  7.3/42.5 MB 941.5 kB/s eta 0:00:38\n",
      "     ------                                  7.4/42.5 MB 943.7 kB/s eta 0:00:38\n",
      "     ------                                  7.4/42.5 MB 945.8 kB/s eta 0:00:38\n",
      "     ------                                  7.5/42.5 MB 948.1 kB/s eta 0:00:37\n",
      "     ------                                  7.6/42.5 MB 951.5 kB/s eta 0:00:37\n",
      "     ------                                  7.6/42.5 MB 951.5 kB/s eta 0:00:37\n",
      "     ------                                  7.6/42.5 MB 941.7 kB/s eta 0:00:38\n",
      "     -------                                 7.7/42.5 MB 945.1 kB/s eta 0:00:37\n",
      "     -------                                 7.7/42.5 MB 947.1 kB/s eta 0:00:37\n",
      "     -------                                 7.8/42.5 MB 951.1 kB/s eta 0:00:37\n",
      "     -------                                 7.8/42.5 MB 951.9 kB/s eta 0:00:37\n",
      "     -------                                 7.9/42.5 MB 952.6 kB/s eta 0:00:37\n",
      "     -------                                 7.9/42.5 MB 954.6 kB/s eta 0:00:37\n",
      "     -------                                 8.0/42.5 MB 955.4 kB/s eta 0:00:37\n",
      "     -------                                 8.1/42.5 MB 957.5 kB/s eta 0:00:36\n",
      "     -------                                 8.1/42.5 MB 958.2 kB/s eta 0:00:36\n",
      "     -------                                 8.2/42.5 MB 960.1 kB/s eta 0:00:36\n",
      "     -------                                 8.2/42.5 MB 960.9 kB/s eta 0:00:36\n",
      "     -------                                 8.3/42.5 MB 961.6 kB/s eta 0:00:36\n",
      "     -------                                 8.3/42.5 MB 963.4 kB/s eta 0:00:36\n",
      "     -------                                 8.4/42.5 MB 964.1 kB/s eta 0:00:36\n",
      "     -------                                 8.4/42.5 MB 966.0 kB/s eta 0:00:36\n",
      "     -------                                 8.5/42.5 MB 966.7 kB/s eta 0:00:36\n",
      "     -------                                 8.6/42.5 MB 969.0 kB/s eta 0:00:36\n",
      "     -------                                 8.6/42.5 MB 969.8 kB/s eta 0:00:35\n",
      "     -------                                 8.7/42.5 MB 969.8 kB/s eta 0:00:35\n",
      "     --------                                8.7/42.5 MB 971.6 kB/s eta 0:00:35\n",
      "     --------                                8.8/42.5 MB 972.2 kB/s eta 0:00:35\n",
      "     --------                                8.9/42.5 MB 976.2 kB/s eta 0:00:35\n",
      "     --------                                8.9/42.5 MB 976.8 kB/s eta 0:00:35\n",
      "     --------                                9.0/42.5 MB 976.9 kB/s eta 0:00:35\n",
      "     --------                                9.0/42.5 MB 979.2 kB/s eta 0:00:35\n",
      "     --------                                9.0/42.5 MB 979.7 kB/s eta 0:00:35\n",
      "     --------                                9.0/42.5 MB 979.7 kB/s eta 0:00:35\n",
      "     --------                                9.1/42.5 MB 973.1 kB/s eta 0:00:35\n",
      "     --------                                9.2/42.5 MB 973.7 kB/s eta 0:00:35\n",
      "     --------                                9.2/42.5 MB 974.3 kB/s eta 0:00:35\n",
      "     --------                                9.3/42.5 MB 974.9 kB/s eta 0:00:35\n",
      "     --------                                9.3/42.5 MB 976.6 kB/s eta 0:00:34\n",
      "     --------                                9.4/42.5 MB 978.7 kB/s eta 0:00:34\n",
      "     --------                                9.5/42.5 MB 980.9 kB/s eta 0:00:34\n",
      "     --------                                9.5/42.5 MB 981.4 kB/s eta 0:00:34\n",
      "     --------                                9.5/42.5 MB 981.5 kB/s eta 0:00:34\n",
      "     --------                                9.6/42.5 MB 981.4 kB/s eta 0:00:34\n",
      "     --------                                9.7/42.5 MB 984.0 kB/s eta 0:00:34\n",
      "     --------                                9.7/42.5 MB 984.5 kB/s eta 0:00:34\n",
      "     --------                                9.7/42.5 MB 984.6 kB/s eta 0:00:34\n",
      "     ---------                               9.8/42.5 MB 985.6 kB/s eta 0:00:34\n",
      "     ---------                               9.9/42.5 MB 986.1 kB/s eta 0:00:34\n",
      "     ---------                               9.9/42.5 MB 987.6 kB/s eta 0:00:33\n",
      "     --------                               10.0/42.5 MB 989.1 kB/s eta 0:00:33\n",
      "     --------                               10.1/42.5 MB 990.6 kB/s eta 0:00:33\n",
      "     ---------                              10.1/42.5 MB 992.6 kB/s eta 0:00:33\n",
      "     ---------                              10.2/42.5 MB 993.0 kB/s eta 0:00:33\n",
      "     ---------                              10.2/42.5 MB 993.0 kB/s eta 0:00:33\n",
      "     ---------                              10.3/42.5 MB 999.5 kB/s eta 0:00:33\n",
      "     ---------                                10.3/42.5 MB 1.0 MB/s eta 0:00:32\n",
      "     ---------                                10.4/42.5 MB 1.0 MB/s eta 0:00:32\n",
      "     ---------                                10.5/42.5 MB 1.0 MB/s eta 0:00:32\n",
      "     ---------                                10.5/42.5 MB 1.0 MB/s eta 0:00:32\n",
      "     ---------                                10.5/42.5 MB 1.0 MB/s eta 0:00:32\n",
      "     ---------                                10.5/42.5 MB 1.0 MB/s eta 0:00:32\n",
      "     ---------                                10.6/42.5 MB 1.0 MB/s eta 0:00:32\n",
      "     ----------                               10.7/42.5 MB 1.0 MB/s eta 0:00:31\n",
      "     ----------                               10.7/42.5 MB 1.0 MB/s eta 0:00:31\n",
      "     ----------                               10.8/42.5 MB 1.0 MB/s eta 0:00:31\n",
      "     ----------                               10.8/42.5 MB 1.0 MB/s eta 0:00:31\n",
      "     ----------                               10.9/42.5 MB 1.0 MB/s eta 0:00:31\n",
      "     ----------                               10.9/42.5 MB 1.0 MB/s eta 0:00:31\n",
      "     ----------                               11.0/42.5 MB 1.0 MB/s eta 0:00:31\n",
      "     ----------                               11.0/42.5 MB 1.0 MB/s eta 0:00:31\n",
      "     ----------                               11.0/42.5 MB 1.0 MB/s eta 0:00:31\n",
      "     ----------                               11.1/42.5 MB 1.0 MB/s eta 0:00:30\n",
      "     ----------                               11.2/42.5 MB 1.0 MB/s eta 0:00:30\n",
      "     ----------                               11.2/42.5 MB 1.0 MB/s eta 0:00:30\n",
      "     ----------                               11.2/42.5 MB 1.0 MB/s eta 0:00:31\n",
      "     ----------                               11.3/42.5 MB 1.0 MB/s eta 0:00:30\n",
      "     ----------                               11.3/42.5 MB 1.0 MB/s eta 0:00:30\n",
      "     ----------                               11.4/42.5 MB 1.0 MB/s eta 0:00:30\n",
      "     ----------                               11.4/42.5 MB 1.1 MB/s eta 0:00:30\n",
      "     ----------                               11.5/42.5 MB 1.1 MB/s eta 0:00:30\n",
      "     ----------                               11.6/42.5 MB 1.1 MB/s eta 0:00:30\n",
      "     ----------                               11.6/42.5 MB 1.1 MB/s eta 0:00:30\n",
      "     -----------                              11.7/42.5 MB 1.1 MB/s eta 0:00:29\n",
      "     -----------                              11.8/42.5 MB 1.1 MB/s eta 0:00:29\n",
      "     -----------                              11.8/42.5 MB 1.1 MB/s eta 0:00:29\n",
      "     -----------                              11.9/42.5 MB 1.1 MB/s eta 0:00:29\n",
      "     -----------                              12.0/42.5 MB 1.1 MB/s eta 0:00:29\n",
      "     -----------                              12.0/42.5 MB 1.1 MB/s eta 0:00:28\n",
      "     -----------                              12.1/42.5 MB 1.1 MB/s eta 0:00:28\n",
      "     -----------                              12.2/42.5 MB 1.1 MB/s eta 0:00:28\n",
      "     -----------                              12.2/42.5 MB 1.1 MB/s eta 0:00:28\n",
      "     -----------                              12.3/42.5 MB 1.1 MB/s eta 0:00:28\n",
      "     -----------                              12.4/42.5 MB 1.1 MB/s eta 0:00:28\n",
      "     -----------                              12.4/42.5 MB 1.1 MB/s eta 0:00:28\n",
      "     -----------                              12.5/42.5 MB 1.1 MB/s eta 0:00:28\n",
      "     -----------                              12.6/42.5 MB 1.1 MB/s eta 0:00:28\n",
      "     -----------                              12.6/42.5 MB 1.1 MB/s eta 0:00:27\n",
      "     -----------                              12.7/42.5 MB 1.1 MB/s eta 0:00:27\n",
      "     ------------                             12.8/42.5 MB 1.1 MB/s eta 0:00:27\n",
      "     ------------                             12.8/42.5 MB 1.1 MB/s eta 0:00:27\n",
      "     ------------                             12.9/42.5 MB 1.1 MB/s eta 0:00:27\n",
      "     ------------                             12.9/42.5 MB 1.1 MB/s eta 0:00:27\n",
      "     ------------                             12.9/42.5 MB 1.1 MB/s eta 0:00:27\n",
      "     ------------                             13.0/42.5 MB 1.1 MB/s eta 0:00:27\n",
      "     ------------                             13.1/42.5 MB 1.1 MB/s eta 0:00:27\n",
      "     ------------                             13.1/42.5 MB 1.1 MB/s eta 0:00:27\n",
      "     ------------                             13.2/42.5 MB 1.1 MB/s eta 0:00:27\n",
      "     ------------                             13.2/42.5 MB 1.1 MB/s eta 0:00:27\n",
      "     ------------                             13.3/42.5 MB 1.1 MB/s eta 0:00:27\n",
      "     ------------                             13.4/42.5 MB 1.1 MB/s eta 0:00:26\n",
      "     ------------                             13.4/42.5 MB 1.1 MB/s eta 0:00:26\n",
      "     ------------                             13.5/42.5 MB 1.1 MB/s eta 0:00:26\n",
      "     ------------                             13.6/42.5 MB 1.1 MB/s eta 0:00:26\n",
      "     ------------                             13.6/42.5 MB 1.1 MB/s eta 0:00:26\n",
      "     ------------                             13.7/42.5 MB 1.1 MB/s eta 0:00:26\n",
      "     ------------                             13.8/42.5 MB 1.1 MB/s eta 0:00:26\n",
      "     -------------                            13.8/42.5 MB 1.1 MB/s eta 0:00:26\n",
      "     -------------                            13.9/42.5 MB 1.1 MB/s eta 0:00:26\n",
      "     -------------                            13.9/42.5 MB 1.1 MB/s eta 0:00:26\n",
      "     -------------                            14.0/42.5 MB 1.1 MB/s eta 0:00:25\n",
      "     -------------                            14.1/42.5 MB 1.1 MB/s eta 0:00:25\n",
      "     -------------                            14.1/42.5 MB 1.1 MB/s eta 0:00:25\n",
      "     -------------                            14.2/42.5 MB 1.1 MB/s eta 0:00:25\n",
      "     -------------                            14.3/42.5 MB 1.1 MB/s eta 0:00:25\n",
      "     -------------                            14.3/42.5 MB 1.2 MB/s eta 0:00:25\n",
      "     -------------                            14.4/42.5 MB 1.2 MB/s eta 0:00:25\n",
      "     -------------                            14.5/42.5 MB 1.2 MB/s eta 0:00:25\n",
      "     -------------                            14.5/42.5 MB 1.2 MB/s eta 0:00:25\n",
      "     -------------                            14.5/42.5 MB 1.2 MB/s eta 0:00:25\n",
      "     -------------                            14.6/42.5 MB 1.2 MB/s eta 0:00:25\n",
      "     -------------                            14.6/42.5 MB 1.2 MB/s eta 0:00:25\n",
      "     -------------                            14.7/42.5 MB 1.2 MB/s eta 0:00:25\n",
      "     -------------                            14.7/42.5 MB 1.2 MB/s eta 0:00:25\n",
      "     -------------                            14.8/42.5 MB 1.2 MB/s eta 0:00:24\n",
      "     -------------                            14.8/42.5 MB 1.2 MB/s eta 0:00:24\n",
      "     --------------                           14.9/42.5 MB 1.2 MB/s eta 0:00:24\n",
      "     --------------                           15.0/42.5 MB 1.2 MB/s eta 0:00:24\n",
      "     --------------                           15.0/42.5 MB 1.2 MB/s eta 0:00:24\n",
      "     --------------                           15.1/42.5 MB 1.2 MB/s eta 0:00:24\n",
      "     --------------                           15.2/42.5 MB 1.2 MB/s eta 0:00:24\n",
      "     --------------                           15.2/42.5 MB 1.2 MB/s eta 0:00:24\n",
      "     --------------                           15.3/42.5 MB 1.2 MB/s eta 0:00:24\n",
      "     --------------                           15.4/42.5 MB 1.2 MB/s eta 0:00:23\n",
      "     --------------                           15.5/42.5 MB 1.2 MB/s eta 0:00:23\n",
      "     --------------                           15.5/42.5 MB 1.2 MB/s eta 0:00:23\n",
      "     --------------                           15.6/42.5 MB 1.2 MB/s eta 0:00:23\n",
      "     --------------                           15.7/42.5 MB 1.2 MB/s eta 0:00:23\n",
      "     --------------                           15.8/42.5 MB 1.2 MB/s eta 0:00:23\n",
      "     --------------                           15.8/42.5 MB 1.2 MB/s eta 0:00:23\n",
      "     --------------                           15.9/42.5 MB 1.2 MB/s eta 0:00:23\n",
      "     --------------                           15.9/42.5 MB 1.2 MB/s eta 0:00:23\n",
      "     ---------------                          16.0/42.5 MB 1.2 MB/s eta 0:00:23\n",
      "     ---------------                          16.1/42.5 MB 1.2 MB/s eta 0:00:23\n",
      "     ---------------                          16.1/42.5 MB 1.2 MB/s eta 0:00:22\n",
      "     ---------------                          16.2/42.5 MB 1.2 MB/s eta 0:00:22\n",
      "     ---------------                          16.2/42.5 MB 1.2 MB/s eta 0:00:22\n",
      "     ---------------                          16.2/42.5 MB 1.2 MB/s eta 0:00:22\n",
      "     ---------------                          16.3/42.5 MB 1.2 MB/s eta 0:00:22\n",
      "     ---------------                          16.3/42.5 MB 1.2 MB/s eta 0:00:22\n",
      "     ---------------                          16.4/42.5 MB 1.2 MB/s eta 0:00:22\n",
      "     ---------------                          16.5/42.5 MB 1.2 MB/s eta 0:00:22\n",
      "     ---------------                          16.5/42.5 MB 1.2 MB/s eta 0:00:22\n",
      "     ---------------                          16.6/42.5 MB 1.2 MB/s eta 0:00:22\n",
      "     ---------------                          16.6/42.5 MB 1.2 MB/s eta 0:00:22\n",
      "     ---------------                          16.7/42.5 MB 1.2 MB/s eta 0:00:22\n",
      "     ---------------                          16.7/42.5 MB 1.2 MB/s eta 0:00:22\n",
      "     ---------------                          16.8/42.5 MB 1.2 MB/s eta 0:00:22\n",
      "     ---------------                          16.9/42.5 MB 1.2 MB/s eta 0:00:22\n",
      "     ---------------                          16.9/42.5 MB 1.2 MB/s eta 0:00:22\n",
      "     ----------------                         17.0/42.5 MB 1.2 MB/s eta 0:00:21\n",
      "     ----------------                         17.1/42.5 MB 1.2 MB/s eta 0:00:21\n",
      "     ----------------                         17.2/42.5 MB 1.2 MB/s eta 0:00:21\n",
      "     ----------------                         17.2/42.5 MB 1.2 MB/s eta 0:00:21\n",
      "     ----------------                         17.3/42.5 MB 1.2 MB/s eta 0:00:21\n",
      "     ----------------                         17.3/42.5 MB 1.2 MB/s eta 0:00:21\n",
      "     ----------------                         17.4/42.5 MB 1.2 MB/s eta 0:00:21\n",
      "     ----------------                         17.5/42.5 MB 1.2 MB/s eta 0:00:21\n",
      "     ----------------                         17.6/42.5 MB 1.2 MB/s eta 0:00:21\n",
      "     ----------------                         17.6/42.5 MB 1.2 MB/s eta 0:00:21\n",
      "     ----------------                         17.7/42.5 MB 1.2 MB/s eta 0:00:21\n",
      "     ----------------                         17.8/42.5 MB 1.2 MB/s eta 0:00:21\n",
      "     ----------------                         17.8/42.5 MB 1.2 MB/s eta 0:00:20\n",
      "     ----------------                         17.9/42.5 MB 1.2 MB/s eta 0:00:20\n",
      "     ----------------                         17.9/42.5 MB 1.2 MB/s eta 0:00:20\n",
      "     ----------------                         17.9/42.5 MB 1.2 MB/s eta 0:00:20\n",
      "     ----------------                         18.0/42.5 MB 1.2 MB/s eta 0:00:20\n",
      "     ----------------                         18.1/42.5 MB 1.2 MB/s eta 0:00:20\n",
      "     -----------------                        18.1/42.5 MB 1.2 MB/s eta 0:00:20\n",
      "     -----------------                        18.2/42.5 MB 1.2 MB/s eta 0:00:20\n",
      "     -----------------                        18.2/42.5 MB 1.2 MB/s eta 0:00:20\n",
      "     -----------------                        18.3/42.5 MB 1.2 MB/s eta 0:00:20\n",
      "     -----------------                        18.3/42.5 MB 1.2 MB/s eta 0:00:20\n",
      "     -----------------                        18.4/42.5 MB 1.2 MB/s eta 0:00:20\n",
      "     -----------------                        18.5/42.5 MB 1.2 MB/s eta 0:00:20\n",
      "     -----------------                        18.5/42.5 MB 1.2 MB/s eta 0:00:20\n",
      "     -----------------                        18.6/42.5 MB 1.2 MB/s eta 0:00:20\n",
      "     -----------------                        18.6/42.5 MB 1.2 MB/s eta 0:00:20\n",
      "     -----------------                        18.7/42.5 MB 1.2 MB/s eta 0:00:20\n",
      "     -----------------                        18.8/42.5 MB 1.2 MB/s eta 0:00:20\n",
      "     -----------------                        18.8/42.5 MB 1.2 MB/s eta 0:00:20\n",
      "     -----------------                        18.9/42.5 MB 1.2 MB/s eta 0:00:19\n",
      "     -----------------                        18.9/42.5 MB 1.2 MB/s eta 0:00:19\n",
      "     -----------------                        19.0/42.5 MB 1.2 MB/s eta 0:00:19\n",
      "     -----------------                        19.0/42.5 MB 1.2 MB/s eta 0:00:19\n",
      "     -----------------                        19.1/42.5 MB 1.2 MB/s eta 0:00:19\n",
      "     ------------------                       19.1/42.5 MB 1.2 MB/s eta 0:00:19\n",
      "     ------------------                       19.2/42.5 MB 1.2 MB/s eta 0:00:19\n",
      "     ------------------                       19.3/42.5 MB 1.2 MB/s eta 0:00:19\n",
      "     ------------------                       19.3/42.5 MB 1.3 MB/s eta 0:00:19\n",
      "     ------------------                       19.3/42.5 MB 1.2 MB/s eta 0:00:19\n",
      "     ------------------                       19.3/42.5 MB 1.2 MB/s eta 0:00:19\n",
      "     ------------------                       19.4/42.5 MB 1.2 MB/s eta 0:00:19\n",
      "     ------------------                       19.4/42.5 MB 1.2 MB/s eta 0:00:19\n",
      "     ------------------                       19.5/42.5 MB 1.2 MB/s eta 0:00:19\n",
      "     ------------------                       19.5/42.5 MB 1.2 MB/s eta 0:00:19\n",
      "     ------------------                       19.6/42.5 MB 1.2 MB/s eta 0:00:19\n",
      "     ------------------                       19.6/42.5 MB 1.2 MB/s eta 0:00:19\n",
      "     ------------------                       19.7/42.5 MB 1.2 MB/s eta 0:00:19\n",
      "     ------------------                       19.7/42.5 MB 1.2 MB/s eta 0:00:19\n",
      "     ------------------                       19.8/42.5 MB 1.2 MB/s eta 0:00:19\n",
      "     ------------------                       19.8/42.5 MB 1.2 MB/s eta 0:00:19\n",
      "     ------------------                       19.9/42.5 MB 1.2 MB/s eta 0:00:19\n",
      "     ------------------                       20.0/42.5 MB 1.2 MB/s eta 0:00:19\n",
      "     ------------------                       20.0/42.5 MB 1.2 MB/s eta 0:00:19\n",
      "     ------------------                       20.1/42.5 MB 1.2 MB/s eta 0:00:19\n",
      "     ------------------                       20.1/42.5 MB 1.2 MB/s eta 0:00:19\n",
      "     -------------------                      20.2/42.5 MB 1.2 MB/s eta 0:00:18\n",
      "     -------------------                      20.2/42.5 MB 1.2 MB/s eta 0:00:18\n",
      "     -------------------                      20.3/42.5 MB 1.2 MB/s eta 0:00:18\n",
      "     -------------------                      20.3/42.5 MB 1.2 MB/s eta 0:00:18\n",
      "     -------------------                      20.4/42.5 MB 1.2 MB/s eta 0:00:18\n",
      "     -------------------                      20.5/42.5 MB 1.2 MB/s eta 0:00:18\n",
      "     -------------------                      20.5/42.5 MB 1.2 MB/s eta 0:00:18\n",
      "     -------------------                      20.6/42.5 MB 1.2 MB/s eta 0:00:18\n",
      "     -------------------                      20.7/42.5 MB 1.2 MB/s eta 0:00:18\n",
      "     -------------------                      20.7/42.5 MB 1.2 MB/s eta 0:00:18\n",
      "     -------------------                      20.8/42.5 MB 1.2 MB/s eta 0:00:18\n",
      "     -------------------                      20.8/42.5 MB 1.3 MB/s eta 0:00:18\n",
      "     -------------------                      20.8/42.5 MB 1.3 MB/s eta 0:00:18\n",
      "     -------------------                      20.9/42.5 MB 1.2 MB/s eta 0:00:18\n",
      "     -------------------                      21.0/42.5 MB 1.2 MB/s eta 0:00:18\n",
      "     -------------------                      21.0/42.5 MB 1.2 MB/s eta 0:00:18\n",
      "     -------------------                      21.1/42.5 MB 1.2 MB/s eta 0:00:18\n",
      "     -------------------                      21.1/42.5 MB 1.2 MB/s eta 0:00:18\n",
      "     -------------------                      21.2/42.5 MB 1.2 MB/s eta 0:00:18\n",
      "     -------------------                      21.2/42.5 MB 1.2 MB/s eta 0:00:18\n",
      "     --------------------                     21.3/42.5 MB 1.2 MB/s eta 0:00:17\n",
      "     --------------------                     21.3/42.5 MB 1.2 MB/s eta 0:00:17\n",
      "     --------------------                     21.4/42.5 MB 1.2 MB/s eta 0:00:17\n",
      "     --------------------                     21.4/42.5 MB 1.3 MB/s eta 0:00:17\n",
      "     --------------------                     21.5/42.5 MB 1.3 MB/s eta 0:00:17\n",
      "     --------------------                     21.5/42.5 MB 1.2 MB/s eta 0:00:17\n",
      "     --------------------                     21.5/42.5 MB 1.2 MB/s eta 0:00:17\n",
      "     --------------------                     21.5/42.5 MB 1.2 MB/s eta 0:00:17\n",
      "     --------------------                     21.6/42.5 MB 1.2 MB/s eta 0:00:17\n",
      "     --------------------                     21.6/42.5 MB 1.2 MB/s eta 0:00:17\n",
      "     --------------------                     21.7/42.5 MB 1.2 MB/s eta 0:00:17\n",
      "     --------------------                     21.7/42.5 MB 1.2 MB/s eta 0:00:17\n",
      "     --------------------                     21.8/42.5 MB 1.2 MB/s eta 0:00:17\n",
      "     --------------------                     21.8/42.5 MB 1.2 MB/s eta 0:00:17\n",
      "     --------------------                     21.9/42.5 MB 1.2 MB/s eta 0:00:17\n",
      "     --------------------                     21.9/42.5 MB 1.2 MB/s eta 0:00:17\n",
      "     --------------------                     22.0/42.5 MB 1.2 MB/s eta 0:00:17\n",
      "     --------------------                     22.1/42.5 MB 1.2 MB/s eta 0:00:17\n",
      "     --------------------                     22.1/42.5 MB 1.2 MB/s eta 0:00:17\n",
      "     --------------------                     22.2/42.5 MB 1.2 MB/s eta 0:00:17\n",
      "     --------------------                     22.2/42.5 MB 1.2 MB/s eta 0:00:17\n",
      "     --------------------                     22.3/42.5 MB 1.2 MB/s eta 0:00:17\n",
      "     ---------------------                    22.3/42.5 MB 1.2 MB/s eta 0:00:17\n",
      "     ---------------------                    22.4/42.5 MB 1.2 MB/s eta 0:00:17\n",
      "     ---------------------                    22.4/42.5 MB 1.2 MB/s eta 0:00:17\n",
      "     ---------------------                    22.4/42.5 MB 1.2 MB/s eta 0:00:17\n",
      "     ---------------------                    22.5/42.5 MB 1.2 MB/s eta 0:00:17\n",
      "     ---------------------                    22.6/42.5 MB 1.2 MB/s eta 0:00:17\n",
      "     ---------------------                    22.6/42.5 MB 1.2 MB/s eta 0:00:17\n",
      "     ---------------------                    22.7/42.5 MB 1.2 MB/s eta 0:00:17\n",
      "     ---------------------                    22.7/42.5 MB 1.2 MB/s eta 0:00:17\n",
      "     ---------------------                    22.8/42.5 MB 1.2 MB/s eta 0:00:17\n",
      "     ---------------------                    22.8/42.5 MB 1.2 MB/s eta 0:00:17\n",
      "     ---------------------                    22.8/42.5 MB 1.2 MB/s eta 0:00:17\n",
      "     ---------------------                    22.9/42.5 MB 1.2 MB/s eta 0:00:17\n",
      "     ---------------------                    22.9/42.5 MB 1.2 MB/s eta 0:00:17\n",
      "     ---------------------                    23.0/42.5 MB 1.2 MB/s eta 0:00:17\n",
      "     ---------------------                    23.0/42.5 MB 1.2 MB/s eta 0:00:17\n",
      "     ---------------------                    23.1/42.5 MB 1.2 MB/s eta 0:00:17\n",
      "     ---------------------                    23.1/42.5 MB 1.2 MB/s eta 0:00:17\n",
      "     ---------------------                    23.2/42.5 MB 1.2 MB/s eta 0:00:17\n",
      "     ---------------------                    23.2/42.5 MB 1.2 MB/s eta 0:00:17\n",
      "     ---------------------                    23.3/42.5 MB 1.2 MB/s eta 0:00:17\n",
      "     ---------------------                    23.3/42.5 MB 1.2 MB/s eta 0:00:17\n",
      "     ---------------------                    23.4/42.5 MB 1.2 MB/s eta 0:00:17\n",
      "     ----------------------                   23.4/42.5 MB 1.2 MB/s eta 0:00:17\n",
      "     ----------------------                   23.5/42.5 MB 1.2 MB/s eta 0:00:17\n",
      "     ----------------------                   23.5/42.5 MB 1.2 MB/s eta 0:00:17\n",
      "     ----------------------                   23.6/42.5 MB 1.2 MB/s eta 0:00:17\n",
      "     ----------------------                   23.6/42.5 MB 1.2 MB/s eta 0:00:16\n",
      "     ----------------------                   23.7/42.5 MB 1.2 MB/s eta 0:00:16\n",
      "     ----------------------                   23.7/42.5 MB 1.2 MB/s eta 0:00:16\n",
      "     ----------------------                   23.8/42.5 MB 1.2 MB/s eta 0:00:16\n",
      "     ----------------------                   23.8/42.5 MB 1.2 MB/s eta 0:00:16\n",
      "     ----------------------                   23.9/42.5 MB 1.2 MB/s eta 0:00:16\n",
      "     ----------------------                   24.0/42.5 MB 1.2 MB/s eta 0:00:16\n",
      "     ----------------------                   24.0/42.5 MB 1.2 MB/s eta 0:00:16\n",
      "     ----------------------                   24.1/42.5 MB 1.2 MB/s eta 0:00:16\n",
      "     ----------------------                   24.1/42.5 MB 1.2 MB/s eta 0:00:16\n",
      "     ----------------------                   24.2/42.5 MB 1.2 MB/s eta 0:00:16\n",
      "     ----------------------                   24.2/42.5 MB 1.2 MB/s eta 0:00:16\n",
      "     ----------------------                   24.2/42.5 MB 1.2 MB/s eta 0:00:16\n",
      "     ----------------------                   24.2/42.5 MB 1.2 MB/s eta 0:00:16\n",
      "     ----------------------                   24.2/42.5 MB 1.2 MB/s eta 0:00:16\n",
      "     ----------------------                   24.2/42.5 MB 1.2 MB/s eta 0:00:16\n",
      "     ----------------------                   24.3/42.5 MB 1.1 MB/s eta 0:00:16\n",
      "     ----------------------                   24.3/42.5 MB 1.1 MB/s eta 0:00:16\n",
      "     ----------------------                   24.3/42.5 MB 1.1 MB/s eta 0:00:16\n",
      "     ----------------------                   24.3/42.5 MB 1.1 MB/s eta 0:00:17\n",
      "     ----------------------                   24.3/42.5 MB 1.1 MB/s eta 0:00:17\n",
      "     ----------------------                   24.3/42.5 MB 1.1 MB/s eta 0:00:17\n",
      "     ----------------------                   24.3/42.5 MB 1.1 MB/s eta 0:00:17\n",
      "     ----------------------                   24.4/42.5 MB 1.1 MB/s eta 0:00:17\n",
      "     ----------------------                   24.4/42.5 MB 1.1 MB/s eta 0:00:17\n",
      "     ----------------------                   24.4/42.5 MB 1.1 MB/s eta 0:00:17\n",
      "     -----------------------                  24.5/42.5 MB 1.1 MB/s eta 0:00:17\n",
      "     -----------------------                  24.5/42.5 MB 1.1 MB/s eta 0:00:17\n",
      "     -----------------------                  24.6/42.5 MB 1.1 MB/s eta 0:00:17\n",
      "     -----------------------                  24.6/42.5 MB 1.1 MB/s eta 0:00:17\n",
      "     -----------------------                  24.7/42.5 MB 1.1 MB/s eta 0:00:17\n",
      "     -----------------------                  24.7/42.5 MB 1.1 MB/s eta 0:00:16\n",
      "     -----------------------                  24.8/42.5 MB 1.1 MB/s eta 0:00:17\n",
      "     -----------------------                  24.9/42.5 MB 1.1 MB/s eta 0:00:16\n",
      "     -----------------------                  24.9/42.5 MB 1.1 MB/s eta 0:00:16\n",
      "     -----------------------                  25.0/42.5 MB 1.1 MB/s eta 0:00:16\n",
      "     -----------------------                  25.0/42.5 MB 1.1 MB/s eta 0:00:16\n",
      "     -----------------------                  25.1/42.5 MB 1.1 MB/s eta 0:00:16\n",
      "     -----------------------                  25.1/42.5 MB 1.1 MB/s eta 0:00:16\n",
      "     -----------------------                  25.1/42.5 MB 1.1 MB/s eta 0:00:16\n",
      "     -----------------------                  25.2/42.5 MB 1.1 MB/s eta 0:00:16\n",
      "     -----------------------                  25.2/42.5 MB 1.1 MB/s eta 0:00:16\n",
      "     -----------------------                  25.3/42.5 MB 1.1 MB/s eta 0:00:16\n",
      "     -----------------------                  25.3/42.5 MB 1.1 MB/s eta 0:00:16\n",
      "     -----------------------                  25.4/42.5 MB 1.1 MB/s eta 0:00:16\n",
      "     -----------------------                  25.4/42.5 MB 1.1 MB/s eta 0:00:16\n",
      "     -----------------------                  25.5/42.5 MB 1.1 MB/s eta 0:00:16\n",
      "     ------------------------                 25.5/42.5 MB 1.1 MB/s eta 0:00:16\n",
      "     ------------------------                 25.6/42.5 MB 1.1 MB/s eta 0:00:16\n",
      "     ------------------------                 25.6/42.5 MB 1.1 MB/s eta 0:00:16\n",
      "     ------------------------                 25.7/42.5 MB 1.1 MB/s eta 0:00:16\n",
      "     ------------------------                 25.7/42.5 MB 1.1 MB/s eta 0:00:16\n",
      "     ------------------------                 25.7/42.5 MB 1.1 MB/s eta 0:00:16\n",
      "     ------------------------                 25.7/42.5 MB 1.1 MB/s eta 0:00:16\n",
      "     ------------------------                 25.8/42.5 MB 1.1 MB/s eta 0:00:16\n",
      "     ------------------------                 25.8/42.5 MB 1.1 MB/s eta 0:00:16\n",
      "     ------------------------                 25.9/42.5 MB 1.1 MB/s eta 0:00:16\n",
      "     ------------------------                 25.9/42.5 MB 1.1 MB/s eta 0:00:16\n",
      "     ------------------------                 26.0/42.5 MB 1.1 MB/s eta 0:00:16\n",
      "     ------------------------                 26.1/42.5 MB 1.1 MB/s eta 0:00:16\n",
      "     ------------------------                 26.1/42.5 MB 1.1 MB/s eta 0:00:16\n",
      "     ------------------------                 26.2/42.5 MB 1.1 MB/s eta 0:00:16\n",
      "     ------------------------                 26.2/42.5 MB 1.1 MB/s eta 0:00:16\n",
      "     ------------------------                 26.2/42.5 MB 1.1 MB/s eta 0:00:16\n",
      "     ------------------------                 26.3/42.5 MB 1.1 MB/s eta 0:00:16\n",
      "     ------------------------                 26.4/42.5 MB 1.1 MB/s eta 0:00:16\n",
      "     ------------------------                 26.4/42.5 MB 1.1 MB/s eta 0:00:16\n",
      "     ------------------------                 26.4/42.5 MB 1.1 MB/s eta 0:00:16\n",
      "     ------------------------                 26.4/42.5 MB 1.1 MB/s eta 0:00:16\n",
      "     ------------------------                 26.5/42.5 MB 1.1 MB/s eta 0:00:16\n",
      "     ------------------------                 26.5/42.5 MB 1.1 MB/s eta 0:00:16\n",
      "     -------------------------                26.6/42.5 MB 1.1 MB/s eta 0:00:16\n",
      "     -------------------------                26.7/42.5 MB 1.1 MB/s eta 0:00:16\n",
      "     -------------------------                26.7/42.5 MB 1.1 MB/s eta 0:00:15\n",
      "     -------------------------                26.8/42.5 MB 1.1 MB/s eta 0:00:15\n",
      "     -------------------------                26.8/42.5 MB 1.1 MB/s eta 0:00:15\n",
      "     -------------------------                26.9/42.5 MB 1.1 MB/s eta 0:00:15\n",
      "     -------------------------                26.9/42.5 MB 1.1 MB/s eta 0:00:15\n",
      "     -------------------------                27.0/42.5 MB 1.1 MB/s eta 0:00:15\n",
      "     -------------------------                27.0/42.5 MB 1.1 MB/s eta 0:00:15\n",
      "     -------------------------                27.1/42.5 MB 1.1 MB/s eta 0:00:15\n",
      "     -------------------------                27.1/42.5 MB 1.1 MB/s eta 0:00:15\n",
      "     -------------------------                27.2/42.5 MB 1.0 MB/s eta 0:00:15\n",
      "     -------------------------                27.2/42.5 MB 1.0 MB/s eta 0:00:15\n",
      "     -------------------------                27.3/42.5 MB 1.0 MB/s eta 0:00:15\n",
      "     -------------------------                27.3/42.5 MB 1.0 MB/s eta 0:00:15\n",
      "     -------------------------                27.4/42.5 MB 1.0 MB/s eta 0:00:15\n",
      "     -------------------------                27.4/42.5 MB 1.0 MB/s eta 0:00:15\n",
      "     -------------------------                27.5/42.5 MB 1.0 MB/s eta 0:00:15\n",
      "     -------------------------                27.5/42.5 MB 1.0 MB/s eta 0:00:15\n",
      "     -------------------------                27.6/42.5 MB 1.0 MB/s eta 0:00:15\n",
      "     -------------------------                27.6/42.5 MB 1.0 MB/s eta 0:00:15\n",
      "     --------------------------               27.7/42.5 MB 1.0 MB/s eta 0:00:15\n",
      "     --------------------------               27.7/42.5 MB 1.0 MB/s eta 0:00:15\n",
      "     --------------------------               27.7/42.5 MB 1.0 MB/s eta 0:00:15\n",
      "     --------------------------               27.8/42.5 MB 1.0 MB/s eta 0:00:15\n",
      "     --------------------------               27.8/42.5 MB 1.0 MB/s eta 0:00:15\n",
      "     --------------------------               27.9/42.5 MB 1.0 MB/s eta 0:00:15\n",
      "     --------------------------               27.9/42.5 MB 1.0 MB/s eta 0:00:15\n",
      "     --------------------------               28.0/42.5 MB 1.0 MB/s eta 0:00:15\n",
      "     --------------------------               28.0/42.5 MB 1.0 MB/s eta 0:00:15\n",
      "     --------------------------               28.1/42.5 MB 1.0 MB/s eta 0:00:15\n",
      "     --------------------------               28.2/42.5 MB 1.0 MB/s eta 0:00:14\n",
      "     --------------------------               28.2/42.5 MB 1.0 MB/s eta 0:00:14\n",
      "     --------------------------               28.3/42.5 MB 1.0 MB/s eta 0:00:14\n",
      "     --------------------------               28.3/42.5 MB 1.0 MB/s eta 0:00:14\n",
      "     --------------------------               28.3/42.5 MB 1.0 MB/s eta 0:00:14\n",
      "     --------------------------               28.4/42.5 MB 1.0 MB/s eta 0:00:14\n",
      "     --------------------------               28.4/42.5 MB 1.0 MB/s eta 0:00:14\n",
      "     --------------------------               28.5/42.5 MB 1.0 MB/s eta 0:00:14\n",
      "     --------------------------               28.5/42.5 MB 1.0 MB/s eta 0:00:14\n",
      "     --------------------------               28.6/42.5 MB 1.0 MB/s eta 0:00:14\n",
      "     --------------------------               28.6/42.5 MB 1.0 MB/s eta 0:00:14\n",
      "     --------------------------               28.7/42.5 MB 1.0 MB/s eta 0:00:14\n",
      "     ---------------------------              28.7/42.5 MB 1.0 MB/s eta 0:00:14\n",
      "     ---------------------------              28.8/42.5 MB 1.0 MB/s eta 0:00:14\n",
      "     ---------------------------              28.8/42.5 MB 1.0 MB/s eta 0:00:14\n",
      "     ---------------------------              28.9/42.5 MB 1.0 MB/s eta 0:00:14\n",
      "     ---------------------------              28.9/42.5 MB 1.0 MB/s eta 0:00:14\n",
      "     ---------------------------              29.0/42.5 MB 1.0 MB/s eta 0:00:14\n",
      "     ---------------------------              29.0/42.5 MB 1.0 MB/s eta 0:00:14\n",
      "     ---------------------------              29.0/42.5 MB 1.0 MB/s eta 0:00:14\n",
      "     ---------------------------              29.0/42.5 MB 1.0 MB/s eta 0:00:14\n",
      "     ---------------------------              29.0/42.5 MB 1.0 MB/s eta 0:00:14\n",
      "     -------------------------              29.0/42.5 MB 996.6 kB/s eta 0:00:14\n",
      "     -------------------------              29.0/42.5 MB 996.6 kB/s eta 0:00:14\n",
      "     -------------------------              29.0/42.5 MB 996.6 kB/s eta 0:00:14\n",
      "     -------------------------              29.1/42.5 MB 983.0 kB/s eta 0:00:14\n",
      "     -------------------------              29.1/42.5 MB 981.6 kB/s eta 0:00:14\n",
      "     -------------------------              29.1/42.5 MB 981.6 kB/s eta 0:00:14\n",
      "     --------------------------             29.1/42.5 MB 974.3 kB/s eta 0:00:14\n",
      "     --------------------------             29.2/42.5 MB 972.8 kB/s eta 0:00:14\n",
      "     --------------------------             29.2/42.5 MB 972.8 kB/s eta 0:00:14\n",
      "     --------------------------             29.3/42.5 MB 974.3 kB/s eta 0:00:14\n",
      "     --------------------------             29.3/42.5 MB 974.3 kB/s eta 0:00:14\n",
      "     --------------------------             29.3/42.5 MB 968.5 kB/s eta 0:00:14\n",
      "     --------------------------             29.4/42.5 MB 968.5 kB/s eta 0:00:14\n",
      "     --------------------------             29.4/42.5 MB 967.1 kB/s eta 0:00:14\n",
      "     --------------------------             29.5/42.5 MB 967.1 kB/s eta 0:00:14\n",
      "     --------------------------             29.5/42.5 MB 968.5 kB/s eta 0:00:14\n",
      "     --------------------------             29.5/42.5 MB 965.6 kB/s eta 0:00:14\n",
      "     --------------------------             29.6/42.5 MB 971.4 kB/s eta 0:00:14\n",
      "     --------------------------             29.6/42.5 MB 974.3 kB/s eta 0:00:14\n",
      "     --------------------------             29.7/42.5 MB 974.3 kB/s eta 0:00:14\n",
      "     --------------------------             29.7/42.5 MB 972.9 kB/s eta 0:00:14\n",
      "     --------------------------             29.8/42.5 MB 972.9 kB/s eta 0:00:14\n",
      "     --------------------------             29.8/42.5 MB 971.4 kB/s eta 0:00:14\n",
      "     --------------------------             29.9/42.5 MB 971.4 kB/s eta 0:00:14\n",
      "     --------------------------             29.9/42.5 MB 971.3 kB/s eta 0:00:13\n",
      "     --------------------------             29.9/42.5 MB 965.7 kB/s eta 0:00:14\n",
      "     --------------------------             30.0/42.5 MB 967.1 kB/s eta 0:00:13\n",
      "     --------------------------             30.0/42.5 MB 964.2 kB/s eta 0:00:13\n",
      "     --------------------------             30.1/42.5 MB 965.7 kB/s eta 0:00:13\n",
      "     --------------------------             30.1/42.5 MB 962.8 kB/s eta 0:00:13\n",
      "     --------------------------             30.2/42.5 MB 964.3 kB/s eta 0:00:13\n",
      "     --------------------------             30.2/42.5 MB 961.4 kB/s eta 0:00:13\n",
      "     ---------------------------            30.2/42.5 MB 960.0 kB/s eta 0:00:13\n",
      "     ---------------------------            30.3/42.5 MB 958.6 kB/s eta 0:00:13\n",
      "     ---------------------------            30.3/42.5 MB 960.0 kB/s eta 0:00:13\n",
      "     ---------------------------            30.4/42.5 MB 958.6 kB/s eta 0:00:13\n",
      "     ---------------------------            30.4/42.5 MB 958.6 kB/s eta 0:00:13\n",
      "     ---------------------------            30.5/42.5 MB 958.6 kB/s eta 0:00:13\n",
      "     ---------------------------            30.5/42.5 MB 958.6 kB/s eta 0:00:13\n",
      "     ---------------------------            30.5/42.5 MB 953.0 kB/s eta 0:00:13\n",
      "     ---------------------------            30.6/42.5 MB 954.4 kB/s eta 0:00:13\n",
      "     ---------------------------            30.6/42.5 MB 954.4 kB/s eta 0:00:13\n",
      "     ---------------------------            30.7/42.5 MB 953.0 kB/s eta 0:00:13\n",
      "     ---------------------------            30.7/42.5 MB 953.0 kB/s eta 0:00:13\n",
      "     ---------------------------            30.8/42.5 MB 950.3 kB/s eta 0:00:13\n",
      "     ---------------------------            30.9/42.5 MB 950.3 kB/s eta 0:00:13\n",
      "     ---------------------------            30.9/42.5 MB 948.9 kB/s eta 0:00:13\n",
      "     ---------------------------            31.0/42.5 MB 948.9 kB/s eta 0:00:13\n",
      "     ---------------------------            31.0/42.5 MB 948.9 kB/s eta 0:00:13\n",
      "     ---------------------------            31.1/42.5 MB 947.5 kB/s eta 0:00:13\n",
      "     ---------------------------            31.1/42.5 MB 951.6 kB/s eta 0:00:12\n",
      "     ---------------------------            31.2/42.5 MB 951.6 kB/s eta 0:00:12\n",
      "     ---------------------------            31.2/42.5 MB 946.1 kB/s eta 0:00:12\n",
      "     ---------------------------            31.2/42.5 MB 944.8 kB/s eta 0:00:12\n",
      "     ---------------------------            31.3/42.5 MB 944.8 kB/s eta 0:00:12\n",
      "     ---------------------------            31.3/42.5 MB 944.8 kB/s eta 0:00:12\n",
      "     ----------------------------           31.3/42.5 MB 943.4 kB/s eta 0:00:12\n",
      "     ----------------------------           31.4/42.5 MB 944.8 kB/s eta 0:00:12\n",
      "     ----------------------------           31.5/42.5 MB 943.4 kB/s eta 0:00:12\n",
      "     ----------------------------           31.5/42.5 MB 943.4 kB/s eta 0:00:12\n",
      "     ----------------------------           31.5/42.5 MB 940.7 kB/s eta 0:00:12\n",
      "     ----------------------------           31.6/42.5 MB 943.4 kB/s eta 0:00:12\n",
      "     ----------------------------           31.7/42.5 MB 946.1 kB/s eta 0:00:12\n",
      "     ----------------------------           31.7/42.5 MB 951.6 kB/s eta 0:00:12\n",
      "     ----------------------------           31.8/42.5 MB 951.6 kB/s eta 0:00:12\n",
      "     ----------------------------           31.8/42.5 MB 950.2 kB/s eta 0:00:12\n",
      "     ----------------------------           31.8/42.5 MB 950.2 kB/s eta 0:00:12\n",
      "     ----------------------------           31.9/42.5 MB 948.8 kB/s eta 0:00:12\n",
      "     ----------------------------           31.9/42.5 MB 948.9 kB/s eta 0:00:12\n",
      "     ----------------------------           32.0/42.5 MB 951.6 kB/s eta 0:00:12\n",
      "     ----------------------------           32.0/42.5 MB 951.6 kB/s eta 0:00:12\n",
      "     ----------------------------           32.1/42.5 MB 951.6 kB/s eta 0:00:11\n",
      "     ----------------------------           32.1/42.5 MB 950.3 kB/s eta 0:00:11\n",
      "     ----------------------------           32.2/42.5 MB 951.6 kB/s eta 0:00:11\n",
      "     ----------------------------           32.3/42.5 MB 951.6 kB/s eta 0:00:11\n",
      "     ----------------------------           32.3/42.5 MB 951.6 kB/s eta 0:00:11\n",
      "     ----------------------------           32.4/42.5 MB 951.6 kB/s eta 0:00:11\n",
      "     ----------------------------           32.4/42.5 MB 951.6 kB/s eta 0:00:11\n",
      "     -----------------------------          32.5/42.5 MB 951.6 kB/s eta 0:00:11\n",
      "     -----------------------------          32.5/42.5 MB 951.6 kB/s eta 0:00:11\n",
      "     -----------------------------          32.6/42.5 MB 954.4 kB/s eta 0:00:11\n",
      "     -----------------------------          32.7/42.5 MB 954.4 kB/s eta 0:00:11\n",
      "     -----------------------------          32.7/42.5 MB 957.2 kB/s eta 0:00:11\n",
      "     -----------------------------          32.8/42.5 MB 957.1 kB/s eta 0:00:11\n",
      "     -----------------------------          32.8/42.5 MB 957.1 kB/s eta 0:00:11\n",
      "     -----------------------------          32.9/42.5 MB 958.6 kB/s eta 0:00:11\n",
      "     -----------------------------          33.0/42.5 MB 958.6 kB/s eta 0:00:10\n",
      "     -----------------------------          33.0/42.5 MB 958.6 kB/s eta 0:00:10\n",
      "     -----------------------------          33.1/42.5 MB 964.3 kB/s eta 0:00:10\n",
      "     -----------------------------          33.1/42.5 MB 964.3 kB/s eta 0:00:10\n",
      "     -----------------------------          33.2/42.5 MB 965.6 kB/s eta 0:00:10\n",
      "     -----------------------------          33.2/42.5 MB 967.1 kB/s eta 0:00:10\n",
      "     -----------------------------          33.3/42.5 MB 965.6 kB/s eta 0:00:10\n",
      "     -----------------------------          33.3/42.5 MB 965.6 kB/s eta 0:00:10\n",
      "     -----------------------------          33.3/42.5 MB 959.9 kB/s eta 0:00:10\n",
      "     -----------------------------          33.4/42.5 MB 960.0 kB/s eta 0:00:10\n",
      "     -----------------------------          33.4/42.5 MB 961.4 kB/s eta 0:00:10\n",
      "     -----------------------------          33.5/42.5 MB 962.8 kB/s eta 0:00:10\n",
      "     -----------------------------          33.5/42.5 MB 962.8 kB/s eta 0:00:10\n",
      "     ------------------------------         33.6/42.5 MB 964.3 kB/s eta 0:00:10\n",
      "     ------------------------------         33.6/42.5 MB 964.2 kB/s eta 0:00:10\n",
      "     ------------------------------         33.7/42.5 MB 964.3 kB/s eta 0:00:10\n",
      "     ------------------------------         33.8/42.5 MB 964.3 kB/s eta 0:00:10\n",
      "     ------------------------------         33.8/42.5 MB 962.8 kB/s eta 0:00:10\n",
      "     ------------------------------         33.8/42.5 MB 964.3 kB/s eta 0:00:09\n",
      "     ------------------------------         33.9/42.5 MB 962.8 kB/s eta 0:00:09\n",
      "     ------------------------------         33.9/42.5 MB 962.8 kB/s eta 0:00:09\n",
      "     ------------------------------         33.9/42.5 MB 962.8 kB/s eta 0:00:09\n",
      "     ------------------------------         33.9/42.5 MB 962.8 kB/s eta 0:00:09\n",
      "     ------------------------------         33.9/42.5 MB 962.8 kB/s eta 0:00:09\n",
      "     ------------------------------         33.9/42.5 MB 943.4 kB/s eta 0:00:10\n",
      "     ------------------------------         33.9/42.5 MB 939.4 kB/s eta 0:00:10\n",
      "     ------------------------------         34.0/42.5 MB 940.7 kB/s eta 0:00:10\n",
      "     ------------------------------         34.0/42.5 MB 940.7 kB/s eta 0:00:10\n",
      "     ------------------------------         34.1/42.5 MB 939.4 kB/s eta 0:00:09\n",
      "     ------------------------------         34.1/42.5 MB 939.4 kB/s eta 0:00:09\n",
      "     ------------------------------         34.2/42.5 MB 938.0 kB/s eta 0:00:09\n",
      "     ------------------------------         34.3/42.5 MB 937.9 kB/s eta 0:00:09\n",
      "     ------------------------------         34.3/42.5 MB 938.0 kB/s eta 0:00:09\n",
      "     ------------------------------         34.4/42.5 MB 943.4 kB/s eta 0:00:09\n",
      "     ------------------------------         34.4/42.5 MB 947.5 kB/s eta 0:00:09\n",
      "     ------------------------------         34.5/42.5 MB 948.8 kB/s eta 0:00:09\n",
      "     ------------------------------         34.5/42.5 MB 978.6 kB/s eta 0:00:09\n",
      "     ------------------------------         34.6/42.5 MB 980.1 kB/s eta 0:00:09\n",
      "     ------------------------------         34.7/42.5 MB 987.5 kB/s eta 0:00:08\n",
      "     -------------------------------        34.7/42.5 MB 984.5 kB/s eta 0:00:08\n",
      "     -------------------------------        34.7/42.5 MB 984.5 kB/s eta 0:00:08\n",
      "     -------------------------------        34.8/42.5 MB 984.5 kB/s eta 0:00:08\n",
      "     -------------------------------        34.9/42.5 MB 984.5 kB/s eta 0:00:08\n",
      "     -------------------------------        34.9/42.5 MB 984.5 kB/s eta 0:00:08\n",
      "     -------------------------------        34.9/42.5 MB 983.1 kB/s eta 0:00:08\n",
      "     -------------------------------        35.0/42.5 MB 984.6 kB/s eta 0:00:08\n",
      "     -------------------------------        35.1/42.5 MB 984.6 kB/s eta 0:00:08\n",
      "     -------------------------------        35.1/42.5 MB 984.6 kB/s eta 0:00:08\n",
      "     -------------------------------        35.1/42.5 MB 986.0 kB/s eta 0:00:08\n",
      "     -------------------------------        35.1/42.5 MB 986.0 kB/s eta 0:00:08\n",
      "     -------------------------------        35.2/42.5 MB 975.7 kB/s eta 0:00:08\n",
      "     -------------------------------        35.3/42.5 MB 978.6 kB/s eta 0:00:08\n",
      "     -------------------------------        35.3/42.5 MB 981.6 kB/s eta 0:00:08\n",
      "     -------------------------------        35.4/42.5 MB 983.1 kB/s eta 0:00:08\n",
      "     -------------------------------        35.4/42.5 MB 983.0 kB/s eta 0:00:08\n",
      "     -------------------------------        35.5/42.5 MB 989.0 kB/s eta 0:00:08\n",
      "     -------------------------------        35.6/42.5 MB 987.5 kB/s eta 0:00:08\n",
      "     -------------------------------        35.6/42.5 MB 989.0 kB/s eta 0:00:07\n",
      "     -------------------------------        35.7/42.5 MB 990.5 kB/s eta 0:00:07\n",
      "     -------------------------------        35.7/42.5 MB 991.9 kB/s eta 0:00:07\n",
      "     --------------------------------       35.8/42.5 MB 990.5 kB/s eta 0:00:07\n",
      "     --------------------------------       35.9/42.5 MB 993.5 kB/s eta 0:00:07\n",
      "     --------------------------------       35.9/42.5 MB 991.9 kB/s eta 0:00:07\n",
      "     --------------------------------       36.0/42.5 MB 990.5 kB/s eta 0:00:07\n",
      "     --------------------------------       36.0/42.5 MB 998.0 kB/s eta 0:00:07\n",
      "     --------------------------------       36.1/42.5 MB 998.0 kB/s eta 0:00:07\n",
      "     --------------------------------       36.1/42.5 MB 998.0 kB/s eta 0:00:07\n",
      "     --------------------------------       36.2/42.5 MB 998.0 kB/s eta 0:00:07\n",
      "     ----------------------------------       36.2/42.5 MB 1.0 MB/s eta 0:00:07\n",
      "     ----------------------------------       36.3/42.5 MB 1.0 MB/s eta 0:00:07\n",
      "     --------------------------------       36.4/42.5 MB 999.5 kB/s eta 0:00:07\n",
      "     ----------------------------------       36.4/42.5 MB 1.0 MB/s eta 0:00:07\n",
      "     ----------------------------------       36.5/42.5 MB 1.0 MB/s eta 0:00:07\n",
      "     ----------------------------------       36.5/42.5 MB 1.0 MB/s eta 0:00:06\n",
      "     ----------------------------------       36.6/42.5 MB 1.0 MB/s eta 0:00:06\n",
      "     ----------------------------------       36.6/42.5 MB 1.0 MB/s eta 0:00:06\n",
      "     ----------------------------------       36.6/42.5 MB 1.0 MB/s eta 0:00:06\n",
      "     ----------------------------------       36.7/42.5 MB 1.0 MB/s eta 0:00:06\n",
      "     ----------------------------------       36.7/42.5 MB 1.0 MB/s eta 0:00:06\n",
      "     ----------------------------------       36.8/42.5 MB 1.0 MB/s eta 0:00:06\n",
      "     ----------------------------------       36.8/42.5 MB 1.0 MB/s eta 0:00:06\n",
      "     ----------------------------------       36.9/42.5 MB 1.0 MB/s eta 0:00:06\n",
      "     ----------------------------------       36.9/42.5 MB 1.0 MB/s eta 0:00:06\n",
      "     ----------------------------------       37.0/42.5 MB 1.0 MB/s eta 0:00:06\n",
      "     ----------------------------------       37.0/42.5 MB 1.0 MB/s eta 0:00:06\n",
      "     ----------------------------------       37.1/42.5 MB 1.0 MB/s eta 0:00:06\n",
      "     ----------------------------------       37.2/42.5 MB 1.0 MB/s eta 0:00:06\n",
      "     -----------------------------------      37.2/42.5 MB 1.0 MB/s eta 0:00:06\n",
      "     -----------------------------------      37.3/42.5 MB 1.0 MB/s eta 0:00:06\n",
      "     -----------------------------------      37.3/42.5 MB 1.0 MB/s eta 0:00:06\n",
      "     -----------------------------------      37.4/42.5 MB 1.0 MB/s eta 0:00:06\n",
      "     -----------------------------------      37.4/42.5 MB 1.0 MB/s eta 0:00:06\n",
      "     -----------------------------------      37.5/42.5 MB 1.0 MB/s eta 0:00:06\n",
      "     -----------------------------------      37.5/42.5 MB 1.0 MB/s eta 0:00:05\n",
      "     -----------------------------------      37.6/42.5 MB 1.0 MB/s eta 0:00:05\n",
      "     -----------------------------------      37.6/42.5 MB 1.0 MB/s eta 0:00:05\n",
      "     -----------------------------------      37.6/42.5 MB 1.0 MB/s eta 0:00:05\n",
      "     -----------------------------------      37.7/42.5 MB 1.0 MB/s eta 0:00:05\n",
      "     ---------------------------------      37.7/42.5 MB 998.0 kB/s eta 0:00:05\n",
      "     ---------------------------------      37.8/42.5 MB 999.6 kB/s eta 0:00:05\n",
      "     ---------------------------------      37.8/42.5 MB 998.0 kB/s eta 0:00:05\n",
      "     ---------------------------------      37.8/42.5 MB 998.0 kB/s eta 0:00:05\n",
      "     ---------------------------------      37.9/42.5 MB 998.0 kB/s eta 0:00:05\n",
      "     ---------------------------------      37.9/42.5 MB 995.0 kB/s eta 0:00:05\n",
      "     ---------------------------------      37.9/42.5 MB 995.0 kB/s eta 0:00:05\n",
      "     ---------------------------------      38.0/42.5 MB 996.6 kB/s eta 0:00:05\n",
      "     ---------------------------------      38.0/42.5 MB 995.0 kB/s eta 0:00:05\n",
      "     ----------------------------------     38.1/42.5 MB 995.0 kB/s eta 0:00:05\n",
      "     ----------------------------------     38.1/42.5 MB 991.9 kB/s eta 0:00:05\n",
      "     ----------------------------------     38.2/42.5 MB 995.0 kB/s eta 0:00:05\n",
      "     ----------------------------------     38.2/42.5 MB 993.5 kB/s eta 0:00:05\n",
      "     ----------------------------------     38.3/42.5 MB 993.5 kB/s eta 0:00:05\n",
      "     ----------------------------------     38.3/42.5 MB 993.5 kB/s eta 0:00:05\n",
      "     ----------------------------------     38.3/42.5 MB 992.0 kB/s eta 0:00:05\n",
      "     ----------------------------------     38.4/42.5 MB 992.0 kB/s eta 0:00:05\n",
      "     ----------------------------------     38.4/42.5 MB 990.5 kB/s eta 0:00:05\n",
      "     ----------------------------------     38.5/42.5 MB 990.5 kB/s eta 0:00:05\n",
      "     ----------------------------------     38.5/42.5 MB 990.5 kB/s eta 0:00:05\n",
      "     ----------------------------------     38.5/42.5 MB 990.5 kB/s eta 0:00:05\n",
      "     ----------------------------------     38.6/42.5 MB 986.0 kB/s eta 0:00:05\n",
      "     ----------------------------------     38.6/42.5 MB 984.5 kB/s eta 0:00:04\n",
      "     ----------------------------------     38.6/42.5 MB 983.0 kB/s eta 0:00:04\n",
      "     ----------------------------------     38.7/42.5 MB 981.6 kB/s eta 0:00:04\n",
      "     ----------------------------------     38.7/42.5 MB 981.6 kB/s eta 0:00:04\n",
      "     ----------------------------------     38.8/42.5 MB 981.6 kB/s eta 0:00:04\n",
      "     ----------------------------------     38.8/42.5 MB 978.6 kB/s eta 0:00:04\n",
      "     ----------------------------------     38.8/42.5 MB 978.6 kB/s eta 0:00:04\n",
      "     ----------------------------------     38.8/42.5 MB 974.3 kB/s eta 0:00:04\n",
      "     ----------------------------------     38.8/42.5 MB 971.3 kB/s eta 0:00:04\n",
      "     ----------------------------------     38.8/42.5 MB 971.3 kB/s eta 0:00:04\n",
      "     ----------------------------------     38.8/42.5 MB 971.3 kB/s eta 0:00:04\n",
      "     ----------------------------------     38.8/42.5 MB 971.3 kB/s eta 0:00:04\n",
      "     ----------------------------------     38.8/42.5 MB 954.4 kB/s eta 0:00:04\n",
      "     ----------------------------------     38.9/42.5 MB 954.4 kB/s eta 0:00:04\n",
      "     ----------------------------------     38.9/42.5 MB 953.0 kB/s eta 0:00:04\n",
      "     ----------------------------------     39.0/42.5 MB 950.2 kB/s eta 0:00:04\n",
      "     ----------------------------------     39.0/42.5 MB 951.6 kB/s eta 0:00:04\n",
      "     ----------------------------------     39.1/42.5 MB 950.3 kB/s eta 0:00:04\n",
      "     ----------------------------------     39.1/42.5 MB 950.3 kB/s eta 0:00:04\n",
      "     ----------------------------------     39.1/42.5 MB 947.5 kB/s eta 0:00:04\n",
      "     -----------------------------------    39.2/42.5 MB 946.1 kB/s eta 0:00:04\n",
      "     -----------------------------------    39.2/42.5 MB 947.5 kB/s eta 0:00:04\n",
      "     -----------------------------------    39.3/42.5 MB 977.1 kB/s eta 0:00:04\n",
      "     -----------------------------------    39.4/42.5 MB 989.0 kB/s eta 0:00:04\n",
      "     -----------------------------------    39.4/42.5 MB 989.0 kB/s eta 0:00:04\n",
      "     -----------------------------------    39.4/42.5 MB 983.1 kB/s eta 0:00:04\n",
      "     -----------------------------------    39.5/42.5 MB 981.6 kB/s eta 0:00:04\n",
      "     -----------------------------------    39.5/42.5 MB 978.6 kB/s eta 0:00:04\n",
      "     -----------------------------------    39.6/42.5 MB 987.5 kB/s eta 0:00:03\n",
      "     -----------------------------------    39.6/42.5 MB 984.5 kB/s eta 0:00:03\n",
      "     -----------------------------------    39.6/42.5 MB 987.5 kB/s eta 0:00:03\n",
      "     -----------------------------------    39.7/42.5 MB 986.0 kB/s eta 0:00:03\n",
      "     -----------------------------------    39.7/42.5 MB 989.0 kB/s eta 0:00:03\n",
      "     -----------------------------------    39.8/42.5 MB 987.4 kB/s eta 0:00:03\n",
      "     -----------------------------------    39.8/42.5 MB 987.5 kB/s eta 0:00:03\n",
      "     -----------------------------------    39.9/42.5 MB 986.0 kB/s eta 0:00:03\n",
      "     -----------------------------------    39.9/42.5 MB 986.0 kB/s eta 0:00:03\n",
      "     -----------------------------------    40.0/42.5 MB 986.0 kB/s eta 0:00:03\n",
      "     -----------------------------------    40.0/42.5 MB 986.0 kB/s eta 0:00:03\n",
      "     -----------------------------------    40.0/42.5 MB 977.2 kB/s eta 0:00:03\n",
      "     -----------------------------------    40.0/42.5 MB 980.0 kB/s eta 0:00:03\n",
      "     -----------------------------------    40.1/42.5 MB 978.5 kB/s eta 0:00:03\n",
      "     -----------------------------------    40.1/42.5 MB 981.6 kB/s eta 0:00:03\n",
      "     -----------------------------------    40.2/42.5 MB 983.1 kB/s eta 0:00:03\n",
      "     -----------------------------------    40.2/42.5 MB 983.1 kB/s eta 0:00:03\n",
      "     ------------------------------------   40.3/42.5 MB 984.5 kB/s eta 0:00:03\n",
      "     ------------------------------------   40.3/42.5 MB 986.0 kB/s eta 0:00:03\n",
      "     ------------------------------------   40.4/42.5 MB 986.0 kB/s eta 0:00:03\n",
      "     ------------------------------------   40.4/42.5 MB 984.5 kB/s eta 0:00:03\n",
      "     ------------------------------------   40.5/42.5 MB 987.5 kB/s eta 0:00:03\n",
      "     ------------------------------------   40.5/42.5 MB 984.5 kB/s eta 0:00:03\n",
      "     ------------------------------------   40.5/42.5 MB 983.1 kB/s eta 0:00:03\n",
      "     ------------------------------------   40.5/42.5 MB 983.1 kB/s eta 0:00:03\n",
      "     ------------------------------------   40.6/42.5 MB 975.7 kB/s eta 0:00:02\n",
      "     ------------------------------------   40.6/42.5 MB 975.7 kB/s eta 0:00:02\n",
      "     ------------------------------------   40.6/42.5 MB 975.7 kB/s eta 0:00:02\n",
      "     ------------------------------------   40.7/42.5 MB 975.7 kB/s eta 0:00:02\n",
      "     ------------------------------------   40.7/42.5 MB 980.0 kB/s eta 0:00:02\n",
      "     ------------------------------------   40.8/42.5 MB 975.7 kB/s eta 0:00:02\n",
      "     ------------------------------------   40.8/42.5 MB 975.7 kB/s eta 0:00:02\n",
      "     ------------------------------------   40.9/42.5 MB 975.7 kB/s eta 0:00:02\n",
      "     ------------------------------------   40.9/42.5 MB 972.8 kB/s eta 0:00:02\n",
      "     ------------------------------------   40.9/42.5 MB 974.3 kB/s eta 0:00:02\n",
      "     ------------------------------------   41.0/42.5 MB 972.9 kB/s eta 0:00:02\n",
      "     ------------------------------------   41.1/42.5 MB 972.8 kB/s eta 0:00:02\n",
      "     ------------------------------------   41.1/42.5 MB 974.3 kB/s eta 0:00:02\n",
      "     ------------------------------------   41.1/42.5 MB 968.5 kB/s eta 0:00:02\n",
      "     ------------------------------------   41.1/42.5 MB 967.1 kB/s eta 0:00:02\n",
      "     ------------------------------------   41.2/42.5 MB 967.1 kB/s eta 0:00:02\n",
      "     ------------------------------------   41.2/42.5 MB 968.5 kB/s eta 0:00:02\n",
      "     ------------------------------------   41.3/42.5 MB 965.7 kB/s eta 0:00:02\n",
      "     ------------------------------------   41.3/42.5 MB 965.6 kB/s eta 0:00:02\n",
      "     ------------------------------------   41.4/42.5 MB 965.6 kB/s eta 0:00:02\n",
      "     -------------------------------------  41.4/42.5 MB 968.5 kB/s eta 0:00:02\n",
      "     -------------------------------------  41.5/42.5 MB 969.9 kB/s eta 0:00:02\n",
      "     -------------------------------------  41.5/42.5 MB 971.3 kB/s eta 0:00:02\n",
      "     -------------------------------------  41.6/42.5 MB 969.9 kB/s eta 0:00:01\n",
      "     -------------------------------------  41.6/42.5 MB 971.4 kB/s eta 0:00:01\n",
      "     -------------------------------------  41.7/42.5 MB 969.9 kB/s eta 0:00:01\n",
      "     -------------------------------------  41.7/42.5 MB 969.9 kB/s eta 0:00:01\n",
      "     -------------------------------------  41.7/42.5 MB 968.5 kB/s eta 0:00:01\n",
      "     -------------------------------------  41.8/42.5 MB 969.9 kB/s eta 0:00:01\n",
      "     -------------------------------------  41.9/42.5 MB 969.9 kB/s eta 0:00:01\n",
      "     -------------------------------------  41.9/42.5 MB 969.9 kB/s eta 0:00:01\n",
      "     -------------------------------------  41.9/42.5 MB 967.0 kB/s eta 0:00:01\n",
      "     -------------------------------------  42.0/42.5 MB 965.7 kB/s eta 0:00:01\n",
      "     -------------------------------------  42.0/42.5 MB 974.3 kB/s eta 0:00:01\n",
      "     -------------------------------------  42.1/42.5 MB 969.9 kB/s eta 0:00:01\n",
      "     -------------------------------------  42.1/42.5 MB 968.5 kB/s eta 0:00:01\n",
      "     -------------------------------------  42.1/42.5 MB 968.5 kB/s eta 0:00:01\n",
      "     -------------------------------------  42.2/42.5 MB 967.1 kB/s eta 0:00:01\n",
      "     -------------------------------------  42.2/42.5 MB 965.6 kB/s eta 0:00:01\n",
      "     -------------------------------------  42.3/42.5 MB 967.1 kB/s eta 0:00:01\n",
      "     -------------------------------------  42.3/42.5 MB 967.1 kB/s eta 0:00:01\n",
      "     -------------------------------------  42.3/42.5 MB 959.9 kB/s eta 0:00:01\n",
      "     -------------------------------------  42.4/42.5 MB 961.4 kB/s eta 0:00:01\n",
      "     -------------------------------------  42.4/42.5 MB 958.6 kB/s eta 0:00:01\n",
      "     -------------------------------------  42.4/42.5 MB 957.2 kB/s eta 0:00:01\n",
      "     -------------------------------------  42.5/42.5 MB 955.8 kB/s eta 0:00:01\n",
      "     -------------------------------------  42.5/42.5 MB 954.4 kB/s eta 0:00:01\n",
      "     -------------------------------------  42.5/42.5 MB 954.4 kB/s eta 0:00:01\n",
      "     -------------------------------------  42.5/42.5 MB 954.4 kB/s eta 0:00:01\n",
      "     -------------------------------------  42.5/42.5 MB 954.4 kB/s eta 0:00:01\n",
      "     -------------------------------------  42.5/42.5 MB 954.4 kB/s eta 0:00:01\n",
      "     -------------------------------------  42.5/42.5 MB 954.4 kB/s eta 0:00:01\n",
      "     -------------------------------------  42.5/42.5 MB 954.4 kB/s eta 0:00:01\n",
      "     -------------------------------------- 42.5/42.5 MB 920.2 kB/s eta 0:00:00\n",
      "Requirement already satisfied: joblib>=1.1.1 in c:\\users\\dilsh\\desktop\\sentiment_analysis_project\\env\\lib\\site-packages (from scikit-learn) (1.2.0)\n",
      "Collecting threadpoolctl>=2.0.0 (from scikit-learn)\n",
      "  Downloading threadpoolctl-3.1.0-py3-none-any.whl (14 kB)\n",
      "Installing collected packages: threadpoolctl, scipy, scikit-learn\n",
      "Successfully installed scikit-learn-1.2.2 scipy-1.10.1 threadpoolctl-3.1.0\n"
     ]
    }
   ],
   "source": [
    "#!pip install scikit-learn"
   ]
  },
  {
   "cell_type": "code",
   "execution_count": 37,
   "id": "40360ae3",
   "metadata": {},
   "outputs": [],
   "source": [
    "from sklearn.model_selection import train_test_split\n",
    "x_train,x_test,y_train,y_test = train_test_split(x,y,test_size=0.2)"
   ]
  },
  {
   "cell_type": "markdown",
   "id": "eadf3d0c",
   "metadata": {},
   "source": [
    "### Vectorization"
   ]
  },
  {
   "cell_type": "code",
   "execution_count": 41,
   "id": "928926c2",
   "metadata": {},
   "outputs": [],
   "source": [
    "def vectorizer(ds,vocabulary):\n",
    "    vectorized_list = []\n",
    "    \n",
    "    for sentence in ds:\n",
    "        sentence_lst = np.zeros(len(vocabulary))\n",
    "        \n",
    "        for i in range(len(vocabulary)):\n",
    "            if vocabulary[i] in sentence.split():\n",
    "                sentence_lst[i] = 1\n",
    "                \n",
    "        vectorized_list.append(sentence_lst)\n",
    "        \n",
    "        \n",
    "    vectorized_list_new = np.asarray(vectorized_list,dtype = np.float32)\n",
    "    \n",
    "    return vectorized_list_new"
   ]
  },
  {
   "cell_type": "code",
   "execution_count": 42,
   "id": "40b76dd9",
   "metadata": {},
   "outputs": [],
   "source": [
    "vectorized_x_train = vectorizer(x_train,tokens)"
   ]
  },
  {
   "cell_type": "code",
   "execution_count": 43,
   "id": "0716ffde",
   "metadata": {},
   "outputs": [],
   "source": [
    "vectorized_x_test = vectorizer(x_test,tokens)"
   ]
  },
  {
   "cell_type": "code",
   "execution_count": 44,
   "id": "e74b84de",
   "metadata": {},
   "outputs": [
    {
     "data": {
      "text/plain": [
       "label\n",
       "0    4704\n",
       "1    1632\n",
       "Name: count, dtype: int64"
      ]
     },
     "execution_count": 44,
     "metadata": {},
     "output_type": "execute_result"
    }
   ],
   "source": [
    "y_train.value_counts()"
   ]
  },
  {
   "cell_type": "code",
   "execution_count": 58,
   "id": "8159acb6",
   "metadata": {},
   "outputs": [],
   "source": [
    "pi = pd.DataFrame(y_train.value_counts())\n",
    "pi = pi.reset_index()"
   ]
  },
  {
   "cell_type": "code",
   "execution_count": 61,
   "id": "3d257329",
   "metadata": {},
   "outputs": [
    {
     "data": {
      "text/plain": [
       "<BarContainer object of 2 artists>"
      ]
     },
     "execution_count": 61,
     "metadata": {},
     "output_type": "execute_result"
    },
    {
     "data": {
      "image/png": "[encoded data removed]",
      "text/plain": [
       "<Figure size 640x480 with 1 Axes>"
      ]
     },
     "metadata": {},
     "output_type": "display_data"
    }
   ],
   "source": [
    "plt.bar(pi['label'],pi['count'])"
   ]
  },
  {
   "cell_type": "markdown",
   "id": "5511fb00",
   "metadata": {},
   "source": [
    "### Handle imbalanced data"
   ]
  },
  {
   "cell_type": "code",
   "execution_count": 63,
   "id": "fde996fc",
   "metadata": {},
   "outputs": [
    {
     "name": "stdout",
     "output_type": "stream",
     "text": [
      "Collecting imbalanced-learn\n",
      "  Using cached imbalanced_learn-0.10.1-py3-none-any.whl (226 kB)\n",
      "Requirement already satisfied: numpy>=1.17.3 in c:\\users\\dilsh\\desktop\\sentiment_analysis_project\\env\\lib\\site-packages (from imbalanced-learn) (1.25.0)\n",
      "Requirement already satisfied: scipy>=1.3.2 in c:\\users\\dilsh\\desktop\\sentiment_analysis_project\\env\\lib\\site-packages (from imbalanced-learn) (1.10.1)\n",
      "Requirement already satisfied: scikit-learn>=1.0.2 in c:\\users\\dilsh\\desktop\\sentiment_analysis_project\\env\\lib\\site-packages (from imbalanced-learn) (1.2.2)\n",
      "Requirement already satisfied: joblib>=1.1.1 in c:\\users\\dilsh\\desktop\\sentiment_analysis_project\\env\\lib\\site-packages (from imbalanced-learn) (1.2.0)\n",
      "Requirement already satisfied: threadpoolctl>=2.0.0 in c:\\users\\dilsh\\desktop\\sentiment_analysis_project\\env\\lib\\site-packages (from imbalanced-learn) (3.1.0)\n",
      "Installing collected packages: imbalanced-learn\n",
      "Successfully installed imbalanced-learn-0.10.1\n"
     ]
    }
   ],
   "source": [
    "#!pip install imbalanced-learn"
   ]
  },
  {
   "cell_type": "code",
   "execution_count": 64,
   "id": "efc8ef3c",
   "metadata": {},
   "outputs": [],
   "source": [
    "from imblearn.over_sampling import SMOTE\n",
    "smote = SMOTE()\n",
    "vectorized_x_train_somte, y_train_smote = smote.fit_resample(vectorized_x_train,y_train)"
   ]
  },
  {
   "cell_type": "code",
   "execution_count": 67,
   "id": "c569b099",
   "metadata": {},
   "outputs": [
    {
     "data": {
      "text/plain": [
       "label\n",
       "1    4704\n",
       "0    4704\n",
       "Name: count, dtype: int64"
      ]
     },
     "execution_count": 67,
     "metadata": {},
     "output_type": "execute_result"
    }
   ],
   "source": [
    "y_train_smote.value_counts()"
   ]
  },
  {
   "cell_type": "markdown",
   "id": "e55ee0dc",
   "metadata": {},
   "source": [
    "## Model training and evaluation"
   ]
  },
  {
   "cell_type": "code",
   "execution_count": 70,
   "id": "86d60fd1",
   "metadata": {},
   "outputs": [],
   "source": [
    "from sklearn.linear_model import LogisticRegression\n",
    "from sklearn.naive_bayes import MultinomialNB\n",
    "from sklearn.tree import DecisionTreeClassifier\n",
    "from sklearn.ensemble import RandomForestClassifier\n",
    "from sklearn.svm import SVC"
   ]
  },
  {
   "cell_type": "code",
   "execution_count": 72,
   "id": "7b01f731",
   "metadata": {},
   "outputs": [],
   "source": [
    "from sklearn.metrics import accuracy_score, f1_score, precision_score, recall_score\n",
    "\n",
    "def training_scores(y_act,y_pred):\n",
    "    acc = round(accuracy_score(y_act,y_pred),3)\n",
    "    pr = round(precision_score(y_act,y_pred),3)\n",
    "    rec = round(recall_score(y_act,y_pred),3)\n",
    "    f1 = round(f1_score(y_act,y_pred),3)\n",
    "    print(f'Training Scores:\\n\\tAccuracy = {acc}\\n\\tPrecision = {pr}\\n\\tRecall = {rec}\\n\\tF1-Score = {f1}')\n",
    "          \n",
    "def validation_scores(y_act,y_pred):\n",
    "    acc = round(accuracy_score(y_act,y_pred),3)\n",
    "    pr = round(precision_score(y_act,y_pred),3)\n",
    "    rec = round(recall_score(y_act,y_pred),3)\n",
    "    f1 = round(f1_score(y_act,y_pred),3)\n",
    "    print(f'Training Scores:\\n\\tAccuracy = {acc}\\n\\tPrecision = {pr}\\n\\tRecall = {rec}\\n\\tF1-Score = {f1}')"
   ]
  },
  {
   "cell_type": "markdown",
   "id": "aa28c5d0",
   "metadata": {},
   "source": [
    "## Logistic reggression"
   ]
  },
  {
   "cell_type": "code",
   "execution_count": 79,
   "id": "ca2c14de",
   "metadata": {},
   "outputs": [
    {
     "name": "stdout",
     "output_type": "stream",
     "text": [
      "Training Scores:\n",
      "\tAccuracy = 0.94\n",
      "\tPrecision = 0.916\n",
      "\tRecall = 0.968\n",
      "\tF1-Score = 0.941\n",
      "Training Scores:\n",
      "\tAccuracy = 0.878\n",
      "\tPrecision = 0.716\n",
      "\tRecall = 0.845\n",
      "\tF1-Score = 0.775\n"
     ]
    }
   ],
   "source": [
    "lr = LogisticRegression()\n",
    "lr.fit(vectorized_x_train_somte,y_train_smote)\n",
    "\n",
    "y_train_pred = lr.predict(vectorized_x_train_somte)\n",
    "\n",
    "training_scores(y_train_smote,y_train_pred)\n",
    "\n",
    "y_test_pred = lr.predict(vectorized_x_test)\n",
    "\n",
    "validation_scores(y_test,y_test_pred)"
   ]
  },
  {
   "cell_type": "markdown",
   "id": "a11bd03a",
   "metadata": {},
   "source": [
    "## Naive Bayes"
   ]
  },
  {
   "cell_type": "code",
   "execution_count": 80,
   "id": "47f3dd4a",
   "metadata": {},
   "outputs": [
    {
     "name": "stdout",
     "output_type": "stream",
     "text": [
      "Training Scores:\n",
      "\tAccuracy = 0.905\n",
      "\tPrecision = 0.869\n",
      "\tRecall = 0.955\n",
      "\tF1-Score = 0.91\n",
      "Training Scores:\n",
      "\tAccuracy = 0.87\n",
      "\tPrecision = 0.673\n",
      "\tRecall = 0.929\n",
      "\tF1-Score = 0.78\n"
     ]
    }
   ],
   "source": [
    "mnb = MultinomialNB()\n",
    "mnb.fit(vectorized_x_train_somte,y_train_smote)\n",
    "\n",
    "y_train_pred = mnb.predict(vectorized_x_train_somte)\n",
    "\n",
    "training_scores(y_train_smote,y_train_pred)\n",
    "\n",
    "y_test_pred = mnb.predict(vectorized_x_test)\n",
    "\n",
    "validation_scores(y_test,y_test_pred)"
   ]
  },
  {
   "cell_type": "markdown",
   "id": "f655ebea",
   "metadata": {},
   "source": [
    "## Decision Tree"
   ]
  },
  {
   "cell_type": "code",
   "execution_count": 81,
   "id": "971e0e29",
   "metadata": {},
   "outputs": [
    {
     "name": "stdout",
     "output_type": "stream",
     "text": [
      "Training Scores:\n",
      "\tAccuracy = 1.0\n",
      "\tPrecision = 1.0\n",
      "\tRecall = 0.999\n",
      "\tF1-Score = 1.0\n",
      "Training Scores:\n",
      "\tAccuracy = 0.84\n",
      "\tPrecision = 0.684\n",
      "\tRecall = 0.66\n",
      "\tF1-Score = 0.672\n"
     ]
    }
   ],
   "source": [
    "dt = DecisionTreeClassifier()\n",
    "dt.fit(vectorized_x_train_somte,y_train_smote)\n",
    "\n",
    "y_train_pred = dt.predict(vectorized_x_train_somte)\n",
    "\n",
    "training_scores(y_train_smote,y_train_pred)\n",
    "\n",
    "y_test_pred = dt.predict(vectorized_x_test)\n",
    "\n",
    "validation_scores(y_test,y_test_pred)"
   ]
  },
  {
   "cell_type": "markdown",
   "id": "69a3d47c",
   "metadata": {},
   "source": [
    "## Random Forest"
   ]
  },
  {
   "cell_type": "code",
   "execution_count": 82,
   "id": "19dc67d6",
   "metadata": {},
   "outputs": [
    {
     "name": "stdout",
     "output_type": "stream",
     "text": [
      "Training Scores:\n",
      "\tAccuracy = 1.0\n",
      "\tPrecision = 1.0\n",
      "\tRecall = 0.999\n",
      "\tF1-Score = 1.0\n",
      "Training Scores:\n",
      "\tAccuracy = 0.871\n",
      "\tPrecision = 0.759\n",
      "\tRecall = 0.703\n",
      "\tF1-Score = 0.73\n"
     ]
    }
   ],
   "source": [
    "rf = RandomForestClassifier()\n",
    "rf.fit(vectorized_x_train_somte,y_train_smote)\n",
    "\n",
    "y_train_pred = rf.predict(vectorized_x_train_somte)\n",
    "\n",
    "training_scores(y_train_smote,y_train_pred)\n",
    "\n",
    "y_test_pred = rf.predict(vectorized_x_test)\n",
    "\n",
    "validation_scores(y_test,y_test_pred)"
   ]
  },
  {
   "cell_type": "markdown",
   "id": "ce16cc51",
   "metadata": {},
   "source": [
    "## Support Vector Machine"
   ]
  },
  {
   "cell_type": "code",
   "execution_count": 83,
   "id": "c9e97785",
   "metadata": {},
   "outputs": [
    {
     "name": "stdout",
     "output_type": "stream",
     "text": [
      "Training Scores:\n",
      "\tAccuracy = 0.979\n",
      "\tPrecision = 0.963\n",
      "\tRecall = 0.995\n",
      "\tF1-Score = 0.979\n",
      "Training Scores:\n",
      "\tAccuracy = 0.879\n",
      "\tPrecision = 0.735\n",
      "\tRecall = 0.802\n",
      "\tF1-Score = 0.767\n"
     ]
    }
   ],
   "source": [
    "svm = SVC()\n",
    "svm.fit(vectorized_x_train_somte,y_train_smote)\n",
    "\n",
    "y_train_pred = svm.predict(vectorized_x_train_somte)\n",
    "\n",
    "training_scores(y_train_smote,y_train_pred)\n",
    "\n",
    "y_test_pred = svm.predict(vectorized_x_test)\n",
    "\n",
    "validation_scores(y_test,y_test_pred)"
   ]
  },
  {
   "cell_type": "code",
   "execution_count": 85,
   "id": "e8b532ee",
   "metadata": {},
   "outputs": [],
   "source": [
    "import pickle\n",
    "\n",
    "with open('../static/model/model.pickle','wb') as file:\n",
    "    pickle.dump(lr,file)"
   ]
  }
 ],
 "metadata": {
  "kernelspec": {
   "display_name": "Python 3 (ipykernel)",
   "language": "python",
   "name": "python3"
  },
  "language_info": {
   "codemirror_mode": {
    "name": "ipython",
    "version": 3
   },
   "file_extension": ".py",
   "mimetype": "text/x-python",
   "name": "python",
   "nbconvert_exporter": "python",
   "pygments_lexer": "ipython3",
   "version": "3.9.9"
  }
 },
 "nbformat": 4,
 "nbformat_minor": 5
}
